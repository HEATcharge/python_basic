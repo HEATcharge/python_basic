{
 "cells": [
  {
   "cell_type": "markdown",
   "metadata": {},
   "source": [
    "# パート1: 変数と基本データ型\n",
    "# ========================\n",
    "Pythonでは、変数を宣言するときに型を指定する必要はありません。\n",
    "変数に値を代入すると、その値の型に応じて自動的に変数の型が決まります。"
   ]
  },
  {
   "cell_type": "markdown",
   "metadata": {},
   "source": [
    "## このパートの書き方チートシート\n",
    "\n",
    "- 変数の宣言/代入: `名前 = 値`（型指定は不要）\n",
    "- 命名規則: 半角英字/数字/アンダースコア、先頭は英字または`_`、`snake_case`推奨、予約語不可\n",
    "- 基本データ型: `int`, `float`, `str`, `bool`\n",
    "- 型確認/変換: `type(x)`, `int(x)`, `float(x)`, `str(x)`, `bool(x)`\n",
    "- 文字列補間: `f\"...{expr}...\"`\n",
    "\n",
    "```python\n",
    "# 代入と型\n",
    "age = 25            # int\n",
    "height = 172.5      # float\n",
    "name = \"田中太郎\"    # str\n",
    "is_student = True   # bool\n",
    "\n",
    "# 型確認と変換\n",
    "type(age)          # <class 'int'>\n",
    "int(\"42\"), float(\"3.14\"), str(123), bool(0)  # 0はFalse, それ以外はTrue（例外あり）\n",
    "\n",
    "# f-string\n",
    "print(f\"{name}は{age}歳、身長{height}cm\")\n",
    "```"
   ]
  },
  {
   "cell_type": "code",
   "execution_count": 3,
   "metadata": {},
   "outputs": [
    {
     "name": "stdout",
     "output_type": "stream",
     "text": [
      "整数型: 25, 型: <class 'int'>\n",
      "浮動小数点型: 172.5, 型: <class 'float'>\n",
      "文字列型: 田中太郎, 型: <class 'str'>\n",
      "ブール型: True, 型: <class 'bool'>\n"
     ]
    }
   ],
   "source": [
    "# 整数型 (int)\n",
    "age = 25\n",
    "print(f\"整数型: {age}, 型: {type(age)}\")\n",
    "\n",
    "# 浮動小数点型 (float)\n",
    "height = 172.5\n",
    "print(f\"浮動小数点型: {height}, 型: {type(height)}\")\n",
    "\n",
    "# 文字列型 (str)\n",
    "name = \"田中太郎\"\n",
    "print(f\"文字列型: {name}, 型: {type(name)}\")\n",
    "\n",
    "# ブール型 (bool)\n",
    "student = True\n",
    "print(f\"ブール型: {student}, 型: {type(student)}\")"
   ]
  },
  {
   "cell_type": "markdown",
   "metadata": {},
   "source": [
    "Pythonの変数名は英字、数字、アンダースコアを含むことができますが、\n",
    "数字で始めることはできません。大文字と小文字は区別されます。"
   ]
  },
  {
   "cell_type": "markdown",
   "metadata": {},
   "source": [
    "# --------------------------\n",
    "# ここから演習\n",
    "# --------------------------"
   ]
  },
  {
   "cell_type": "code",
   "execution_count": 4,
   "metadata": {},
   "outputs": [
    {
     "name": "stdout",
     "output_type": "stream",
     "text": [
      "私の年齢は19歳です。\n"
     ]
    }
   ],
   "source": [
    "# 演習1-1: 整数型の変数を作成\n",
    "# 変数名 my_age に自分の年齢を代入してください\n",
    "# ここにコードを書いてください\n",
    "my_age = 19\n",
    "print(f\"私の年齢は{my_age}歳です。\")"
   ]
  },
  {
   "cell_type": "code",
   "execution_count": 7,
   "metadata": {},
   "outputs": [
    {
     "name": "stdout",
     "output_type": "stream",
     "text": [
      "私の身長は165.2cmです。\n"
     ]
    }
   ],
   "source": [
    "# 演習1-2: 浮動小数点型の変数を作成\n",
    "# 変数名 my_height に自分の身長をcmで代入してください\n",
    "# ここにコードを書いてください\n",
    "my_height = 165.2\n",
    "\n",
    "print(f\"私の身長は{my_height}cmです。\")"
   ]
  },
  {
   "cell_type": "code",
   "execution_count": 11,
   "metadata": {},
   "outputs": [
    {
     "name": "stdout",
     "output_type": "stream",
     "text": [
      "私の名前は海老原　輝です。\n"
     ]
    }
   ],
   "source": [
    "# 演習1-3: 文字列型の変数を作成\n",
    "# 変数名 my_name に自分の名前を代入してください\n",
    "# ここにコードを書いてください\n",
    "my_name =\"海老原　輝\"\n",
    "print(f\"私の名前は{my_name}です。\")"
   ]
  },
  {
   "cell_type": "code",
   "execution_count": 13,
   "metadata": {},
   "outputs": [
    {
     "name": "stdout",
     "output_type": "stream",
     "text": [
      "学生: True\n"
     ]
    }
   ],
   "source": [
    "# 演習1-4: ブール型の変数を作成\n",
    "# 変数名 is_student に、あなたが学生かどうかをブール値で代入してください\n",
    "# ここにコードを書いてください\n",
    "is_student = True\n",
    "\n",
    "print(f\"学生: {is_student}\")"
   ]
  },
  {
   "cell_type": "code",
   "execution_count": null,
   "metadata": {},
   "outputs": [],
   "source": []
  }
 ],
 "metadata": {
  "kernelspec": {
   "display_name": "base",
   "language": "python",
   "name": "python3"
  },
  "language_info": {
   "codemirror_mode": {
    "name": "ipython",
    "version": 3
   },
   "file_extension": ".py",
   "mimetype": "text/x-python",
   "name": "python",
   "nbconvert_exporter": "python",
   "pygments_lexer": "ipython3",
   "version": "3.12.3"
  }
 },
 "nbformat": 4,
 "nbformat_minor": 2
}
