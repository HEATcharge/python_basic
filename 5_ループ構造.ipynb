{
 "cells": [
  {
   "cell_type": "markdown",
   "metadata": {},
   "source": [
    "# パート5: ループ\n",
    "# ============\n",
    "Pythonには、forループとwhileループの2種類の繰り返し構造があります。"
   ]
  },
  {
   "cell_type": "markdown",
   "metadata": {},
   "source": [
    "## このパートの書き方チートシート\n",
    "\n",
    "- for: `for x in iterable:` / `range(start, stop, step)`\n",
    "- enumerate: `for i, x in enumerate(xs):`\n",
    "- while: `while 条件:`\n",
    "- 制御: `break`（中断）, `continue`（次反復へ）\n",
    "- 反復対象: リスト/文字列/辞書/集合 等のイテラブル\n",
    "\n",
    "```python\n",
    "for i in range(3):\n",
    "    print(i)   # 0,1,2\n",
    "\n",
    "fruits = [\"りんご\",\"バナナ\"]\n",
    "for idx, f in enumerate(fruits):\n",
    "    print(idx, f)\n",
    "\n",
    "n = 1\n",
    "while n < 10:\n",
    "    if n == 5:\n",
    "        break\n",
    "    n += 1\n",
    "\n",
    "for i in range(1, 6):\n",
    "    if i % 2 == 0:\n",
    "        continue\n",
    "    print(i)  # 奇数のみ\n",
    "```"
   ]
  },
  {
   "cell_type": "code",
   "execution_count": null,
   "metadata": {},
   "outputs": [],
   "source": [
    "# forループ - 指定回数の繰り返し\n",
    "print(\"\\nforループの例:\")\n",
    "for i in range(5):  # 0から4までの数値でループ\n",
    "    print(f\"i = {i}\")\n",
    "\n",
    "# 開始値と終了値を指定\n",
    "print(\"\\n開始値と終了値を指定したforループ:\")\n",
    "for i in range(2, 6):  # 2から5までの数値でループ\n",
    "    print(f\"i = {i}\")\n",
    "\n",
    "# ステップ（増分）を指定\n",
    "print(\"\\nステップを指定したforループ:\")\n",
    "for i in range(0, 10, 2):  # 0, 2, 4, 6, 8 の値でループ\n",
    "    print(f\"i = {i}\")\n",
    "\n",
    "# リストに対するforループ\n",
    "print(\"\\nリストに対するforループ:\")\n",
    "fruits = [\"りんご\", \"バナナ\", \"オレンジ\", \"ぶどう\"]\n",
    "for fruit in fruits:\n",
    "    print(f\"果物: {fruit}\")\n",
    "\n",
    "# インデックス付きループ（enumerate関数）\n",
    "print(\"\\nインデックス付きループ:\")\n",
    "for index, fruit in enumerate(fruits):\n",
    "    print(f\"インデックス {index}: {fruit}\")\n",
    "\n",
    "# whileループ - 条件が真である間、繰り返す\n",
    "print(\"\\nwhileループの例:\")\n",
    "count = 0\n",
    "while count < 5:\n",
    "    print(f\"カウント: {count}\")\n",
    "    count += 1\n",
    "\n",
    "# break文 - ループを中断する\n",
    "print(\"\\nbreak文の例:\")\n",
    "for i in range(10):\n",
    "    if i == 5:\n",
    "        print(\"ループを中断します\")\n",
    "        break\n",
    "    print(f\"i = {i}\")\n",
    "\n",
    "# continue文 - ループの残りの部分をスキップし、次の反復に進む\n",
    "print(\"\\ncontinue文の例:\")\n",
    "for i in range(10):\n",
    "    if i % 2 == 0:  # 偶数の場合\n",
    "        continue\n",
    "    print(f\"奇数: {i}\")"
   ]
  },
  {
   "cell_type": "markdown",
   "metadata": {},
   "source": [
    "# --------------------------\n",
    "# ここから演習\n",
    "# --------------------------"
   ]
  },
  {
   "cell_type": "code",
   "execution_count": null,
   "metadata": {},
   "outputs": [],
   "source": [
    "# 演習5-1: forループ\n",
    "# 1から10までの数字を表示するコードを書いてください\n",
    "print(\"1から10までの数字:\")\n",
    "# ここにコードを書いてください"
   ]
  },
  {
   "cell_type": "code",
   "execution_count": null,
   "metadata": {},
   "outputs": [],
   "source": [
    "# 演習5-2: 合計値の計算\n",
    "# 1から100までの数字の合計を計算し、sum_result 変数に代入してください\n",
    "# ここにコードを書いてください\n",
    "\n",
    "# 以下のコードのコメントアウトを解除して結果を確認してください\n",
    "\"\"\"\n",
    "print(f\"1から100までの合計: {sum_result}\")\n",
    "\"\"\""
   ]
  },
  {
   "cell_type": "code",
   "execution_count": null,
   "metadata": {},
   "outputs": [],
   "source": [
    "# 演習5-3: whileループ\n",
    "# whileループを使って、1から始めて2倍していき、1000を超えるまでの値を表示するコードを書いてください\n",
    "print(\"2倍していった値:\")\n",
    "# ここにコードを書いてください"
   ]
  },
  {
   "cell_type": "code",
   "execution_count": null,
   "metadata": {},
   "outputs": [],
   "source": [
    "# 演習5-4: break文とcontinue文\n",
    "# 1から20までの数字のうち、3の倍数のみを表示し、15に達したらループを中断するコードを書いてください\n",
    "print(\"3の倍数（15まで）:\")\n",
    "# ここにコードを書いてください"
   ]
  }
 ],
 "metadata": {
  "kernelspec": {
   "display_name": "pytorch",
   "language": "python",
   "name": "python3"
  },
  "language_info": {
   "name": "python",
   "version": "3.11.11"
  }
 },
 "nbformat": 4,
 "nbformat_minor": 2
}
