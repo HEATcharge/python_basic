{
 "cells": [
  {
   "cell_type": "markdown",
   "metadata": {},
   "source": [
    "# パート5: ループ\n",
    "# ============\n",
    "Pythonには、forループとwhileループの2種類の繰り返し構造があります。"
   ]
  },
  {
   "cell_type": "markdown",
   "metadata": {},
   "source": [
    "## このパートの書き方チートシート\n",
    "\n",
    "- for: `for x in iterable:` / `range(start, stop, step)`\n",
    "- enumerate: `for i, x in enumerate(xs):`\n",
    "- while: `while 条件:`\n",
    "- 制御: `break`（中断）, `continue`（次反復へ）\n",
    "- 反復対象: リスト/文字列/辞書/集合 等のイテラブル\n",
    "\n",
    "```python\n",
    "for i in range(3):\n",
    "    print(i)   # 0,1,2\n",
    "\n",
    "fruits = [\"りんご\",\"バナナ\"]\n",
    "for idx, f in enumerate(fruits):\n",
    "    print(idx, f)\n",
    "\n",
    "n = 1\n",
    "while n < 10:\n",
    "    if n == 5:\n",
    "        break\n",
    "    n += 1\n",
    "\n",
    "for i in range(1, 6):\n",
    "    if i % 2 == 0:\n",
    "        continue\n",
    "    print(i)  # 奇数のみ\n",
    "```"
   ]
  },
  {
   "cell_type": "code",
   "execution_count": null,
   "metadata": {},
   "outputs": [],
   "source": [
    "# forループ - 指定回数の繰り返し\n",
    "print(\"\\nforループの例:\")\n",
    "for i in range(5):  # 0から4までの数値でループ\n",
    "    print(f\"i = {i}\")\n",
    "\n",
    "# 開始値と終了値を指定\n",
    "print(\"\\n開始値と終了値を指定したforループ:\")\n",
    "for i in range(2, 6):  # 2から5までの数値でループ\n",
    "    print(f\"i = {i}\")\n",
    "\n",
    "# ステップ（増分）を指定\n",
    "print(\"\\nステップを指定したforループ:\")\n",
    "for i in range(0, 10, 2):  # 0, 2, 4, 6, 8 の値でループ\n",
    "    print(f\"i = {i}\")\n",
    "\n",
    "# リストに対するforループ\n",
    "print(\"\\nリストに対するforループ:\")\n",
    "fruits = [\"りんご\", \"バナナ\", \"オレンジ\", \"ぶどう\"]\n",
    "for fruit in fruits:\n",
    "    print(f\"果物: {fruit}\")\n",
    "\n",
    "# インデックス付きループ（enumerate関数）\n",
    "print(\"\\nインデックス付きループ:\")\n",
    "for index, fruit in enumerate(fruits):\n",
    "    print(f\"インデックス {index}: {fruit}\")\n",
    "\n",
    "# whileループ - 条件が真である間、繰り返す\n",
    "print(\"\\nwhileループの例:\")\n",
    "count = 0\n",
    "while count < 5:\n",
    "    print(f\"カウント: {count}\")\n",
    "    count += 1\n",
    "\n",
    "# break文 - ループを中断する\n",
    "print(\"\\nbreak文の例:\")\n",
    "for i in range(10):\n",
    "    if i == 5:\n",
    "        print(\"ループを中断します\")\n",
    "        break\n",
    "    print(f\"i = {i}\")\n",
    "\n",
    "# continue文 - ループの残りの部分をスキップし、次の反復に進む\n",
    "print(\"\\ncontinue文の例:\")\n",
    "for i in range(10):\n",
    "    if i % 2 == 0:  # 偶数の場合\n",
    "        continue\n",
    "    print(f\"奇数: {i}\")"
   ]
  },
  {
   "cell_type": "markdown",
   "metadata": {},
   "source": [
    "# --------------------------\n",
    "# ここから演習\n",
    "# --------------------------"
   ]
  },
  {
   "cell_type": "code",
   "execution_count": null,
   "metadata": {},
   "outputs": [
    {
     "name": "stdout",
     "output_type": "stream",
     "text": [
      "1から10までの数字:\n",
      "1\n",
      "2\n",
      "3\n",
      "4\n",
      "5\n",
      "6\n",
      "7\n",
      "8\n",
      "9\n",
      "10\n"
     ]
    }
   ],
   "source": [
    "# 演習5-1: forループ\n",
    "# 1から10までの数字を表示するコードを書いてください\n",
    "print(\"1から10までの数字:\")\n",
    "# ここにコードを書いてください\n",
    "for i in range(1, 11):\n",
    "    print(i)"
   ]
  },
  {
   "cell_type": "code",
   "execution_count": 10,
   "metadata": {},
   "outputs": [
    {
     "name": "stdout",
     "output_type": "stream",
     "text": [
      "1\n",
      "3\n",
      "6\n",
      "10\n",
      "15\n",
      "21\n",
      "28\n",
      "36\n",
      "45\n",
      "55\n",
      "66\n",
      "78\n",
      "91\n",
      "105\n",
      "120\n",
      "136\n",
      "153\n",
      "171\n",
      "190\n",
      "210\n",
      "231\n",
      "253\n",
      "276\n",
      "300\n",
      "325\n",
      "351\n",
      "378\n",
      "406\n",
      "435\n",
      "465\n",
      "496\n",
      "528\n",
      "561\n",
      "595\n",
      "630\n",
      "666\n",
      "703\n",
      "741\n",
      "780\n",
      "820\n",
      "861\n",
      "903\n",
      "946\n",
      "990\n",
      "1035\n",
      "1081\n",
      "1128\n",
      "1176\n",
      "1225\n",
      "1275\n",
      "1326\n",
      "1378\n",
      "1431\n",
      "1485\n",
      "1540\n",
      "1596\n",
      "1653\n",
      "1711\n",
      "1770\n",
      "1830\n",
      "1891\n",
      "1953\n",
      "2016\n",
      "2080\n",
      "2145\n",
      "2211\n",
      "2278\n",
      "2346\n",
      "2415\n",
      "2485\n",
      "2556\n",
      "2628\n",
      "2701\n",
      "2775\n",
      "2850\n",
      "2926\n",
      "3003\n",
      "3081\n",
      "3160\n",
      "3240\n",
      "3321\n",
      "3403\n",
      "3486\n",
      "3570\n",
      "3655\n",
      "3741\n",
      "3828\n",
      "3916\n",
      "4005\n",
      "4095\n",
      "4186\n",
      "4278\n",
      "4371\n",
      "4465\n",
      "4560\n",
      "4656\n",
      "4753\n",
      "4851\n",
      "4950\n",
      "1から100までの合計: 4950\n"
     ]
    },
    {
     "data": {
      "text/plain": [
       "'\\nprint(f\"1から100までの合計: {sum_result}\")\\n'"
      ]
     },
     "execution_count": 10,
     "metadata": {},
     "output_type": "execute_result"
    }
   ],
   "source": [
    "# 演習5-2: 合計値の計算\n",
    "# 1から100までの数字の合計を計算し、sum_result 変数に代入してください\n",
    "# ここにコードを書いてください\n",
    "\n",
    "# 以下のコードのコメントアウトを解除して結果を確認してください\n",
    "sum_result = 0\n",
    "for i in range(1,100):\n",
    "    sum_result += i \n",
    "    print(sum_result)\n",
    "print(f\"1から100までの合計: {sum_result}\")\n",
    "\n",
    "\"\"\"\n",
    "print(f\"1から100までの合計: {sum_result}\")\n",
    "\"\"\""
   ]
  },
  {
   "cell_type": "code",
   "execution_count": 9,
   "metadata": {},
   "outputs": [
    {
     "name": "stdout",
     "output_type": "stream",
     "text": [
      "2\n",
      "4\n",
      "8\n",
      "16\n",
      "32\n",
      "64\n",
      "128\n",
      "256\n",
      "512\n",
      "1024\n",
      "2倍していった値:1024\n"
     ]
    }
   ],
   "source": [
    "# 演習5-3: whileループ\n",
    "# whileループを使って、1から始めて2倍していき、1000を超えるまでの値を表示するコードを書いてください\n",
    "x = 1\n",
    "while x <= 1000:\n",
    "    x = x*2\n",
    "    print(x)\n",
    "\n",
    "print(f\"2倍していった値:{x}\")\n",
    "# ここにコードを書いてください"
   ]
  },
  {
   "cell_type": "code",
   "execution_count": 21,
   "metadata": {},
   "outputs": [
    {
     "name": "stdout",
     "output_type": "stream",
     "text": [
      "3の倍数:3\n",
      "3の倍数:6\n",
      "3の倍数:9\n",
      "3の倍数:12\n",
      "3の倍数:15\n"
     ]
    }
   ],
   "source": [
    "# 演習5-4: break文とcontinue文\n",
    "# 1から20までの数字のうち、3の倍数のみを表示し、15に達したらループを中断するコードを書いてください\n",
    "i = 1\n",
    "for i in range(1,21):\n",
    "    if i % 3 == 0 :\n",
    "        print(f\"3の倍数:{i}\")\n",
    "    if i >= 15:\n",
    "     break\n",
    "     print(\"3の倍数（15まで）:{i}\")\n",
    "# ここにコードを書いてください"
   ]
  }
 ],
 "metadata": {
  "kernelspec": {
   "display_name": "base",
   "language": "python",
   "name": "python3"
  },
  "language_info": {
   "codemirror_mode": {
    "name": "ipython",
    "version": 3
   },
   "file_extension": ".py",
   "mimetype": "text/x-python",
   "name": "python",
   "nbconvert_exporter": "python",
   "pygments_lexer": "ipython3",
   "version": "3.12.3"
  }
 },
 "nbformat": 4,
 "nbformat_minor": 2
}
