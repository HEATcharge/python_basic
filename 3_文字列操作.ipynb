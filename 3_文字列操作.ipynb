{
 "cells": [
  {
   "cell_type": "markdown",
   "metadata": {},
   "source": [
    "# パート3: 文字列操作\n",
    "# ================\n",
    "Pythonの文字列は非常に柔軟で、多くの便利な操作をサポートしています。"
   ]
  },
  {
   "cell_type": "markdown",
   "metadata": {},
   "source": [
    "## このパートの書き方チートシート\n",
    "\n",
    "- 生成/連結/繰り返し: `\"a\" + \"b\"`, `\"ha\" * 3`, `len(s)`\n",
    "- インデックス/スライス: `s[i]`, `s[start:stop:step]`（0始まり、負数可）\n",
    "- 主要メソッド: \n",
    "  - 大文字/小文字/タイトル: `upper()`, `lower()`, `title()`, `capitalize()`\n",
    "  - 余白除去: `strip()`, `lstrip()`, `rstrip()`\n",
    "  - 検索/置換/分割/結合: `find()`, `count()`, `replace()`, `split()`, `\"sep\".join(list)`\n",
    "- フォーマット: `%`, `str.format()`, `f-string`\n",
    "\n",
    "```python\n",
    "s = \"Pythonは楽しい\"\n",
    "s[0], s[:6], s[::-1]\n",
    "\n",
    "\" hello \".strip()            # 'hello'\n",
    "\"a,b,c\".split(\",\")          # ['a','b','c']\n",
    "\"-\".join([\"2025\",\"05\",\"09\"])  # '2025-05-09'\n",
    "\n",
    "name, age = \"太郎\", 30\n",
    "\"%sは%d歳\" % (name, age)\n",
    "\"{}は{}歳\".format(name, age)\n",
    "f\"{name}は{age}歳\"\n",
    "```"
   ]
  },
  {
   "cell_type": "code",
   "execution_count": 1,
   "metadata": {},
   "outputs": [
    {
     "name": "stdout",
     "output_type": "stream",
     "text": [
      "文字列連結: 鈴木 一郎\n"
     ]
    }
   ],
   "source": [
    "# 文字列の連結\n",
    "first_name = \"鈴木\"\n",
    "last_name = \"一郎\"\n",
    "full_name = first_name + \" \" + last_name\n",
    "print(f\"文字列連結: {full_name}\")"
   ]
  },
  {
   "cell_type": "code",
   "execution_count": 2,
   "metadata": {},
   "outputs": [
    {
     "name": "stdout",
     "output_type": "stream",
     "text": [
      "文字列繰り返し: こんにちはこんにちはこんにちは\n"
     ]
    }
   ],
   "source": [
    "# 文字列の繰り返し\n",
    "echo = \"こんにちは\" * 3\n",
    "print(f\"文字列繰り返し: {echo}\")"
   ]
  },
  {
   "cell_type": "code",
   "execution_count": 4,
   "metadata": {},
   "outputs": [
    {
     "name": "stdout",
     "output_type": "stream",
     "text": [
      "最初の文字: P\n",
      "5番目の文字: o\n",
      "部分文字列: Python\n",
      "最初から6文字: Python\n",
      "7文字目から最後まで: 素晴らしい言語です\n",
      "逆順: すで語言いしら晴素はnohtyP\n"
     ]
    }
   ],
   "source": [
    "# 文字列のインデックスアクセス（文字列は0から始まるインデックスを持つ）\n",
    "message = \"Pythonは素晴らしい言語です\"\n",
    "first_char = message[0]\n",
    "print(f\"最初の文字: {first_char}\")\n",
    "print(f\"5番目の文字: {message[4]}\")\n",
    "\n",
    "# 文字列のスライス [開始:終了:ステップ]\n",
    "print(f\"部分文字列: {message[0:6]}\")  # 0から5までの文字を取得\n",
    "print(f\"最初から6文字: {message[:6]}\")\n",
    "print(f\"7文字目から最後まで: {message[7:]}\")\n",
    "print(f\"逆順: {message[::-1]}\")"
   ]
  },
  {
   "cell_type": "code",
   "execution_count": 3,
   "metadata": {},
   "outputs": [
    {
     "name": "stdout",
     "output_type": "stream",
     "text": [
      "大文字に変換: HELLO\n",
      "小文字に変換: hello\n",
      "先頭の文字を大文字に: Hello world\n",
      "各単語の先頭を大文字に: Hello World\n"
     ]
    }
   ],
   "source": [
    "# 文字列のメソッド\n",
    "print(f\"大文字に変換: {'hello'.upper()}\")\n",
    "print(f\"小文字に変換: {'HELLO'.lower()}\")\n",
    "print(f\"先頭の文字を大文字に: {'hello world'.capitalize()}\")\n",
    "print(f\"各単語の先頭を大文字に: {'hello world'.title()}\")"
   ]
  },
  {
   "cell_type": "code",
   "execution_count": 1,
   "metadata": {},
   "outputs": [
    {
     "name": "stdout",
     "output_type": "stream",
     "text": [
      "空白除去前: '  こんにちは、世界  '\n",
      "両端の空白を除去: 'こんにちは、世界'\n",
      "左端の空白を除去: 'こんにちは、世界  '\n",
      "右端の空白を除去: '  こんにちは、世界'\n"
     ]
    }
   ],
   "source": [
    "sentence = \"  こんにちは、世界  \"\n",
    "print(f\"空白除去前: '{sentence}'\")\n",
    "print(f\"両端の空白を除去: '{sentence.strip()}'\")\n",
    "print(f\"左端の空白を除去: '{sentence.lstrip()}'\")\n",
    "print(f\"右端の空白を除去: '{sentence.rstrip()}'\")"
   ]
  },
  {
   "cell_type": "code",
   "execution_count": null,
   "metadata": {},
   "outputs": [],
   "source": [
    "# 文字列の検索と置換\n",
    "text = \"Pythonはとても面白いです。Pythonを学びましょう！\"\n",
    "print(f\"'Python'の出現回数: {text.count('Python')}\")\n",
    "print(f\"'面白い'の位置: {text.find('面白い')}\")\n",
    "print(f\"'難しい'の位置 (存在しない場合は-1): {text.find('難しい')}\")\n",
    "print(f\"'Python'を'Ruby'に置換: {text.replace('Python', 'Ruby')}\")"
   ]
  },
  {
   "cell_type": "code",
   "execution_count": null,
   "metadata": {},
   "outputs": [],
   "source": [
    "# フォーマット文字列\n",
    "name = \"太郎\"\n",
    "age = 30\n",
    "# 古い方法\n",
    "old_format = \"私の名前は%sで、%d歳です。\" % (name, age)\n",
    "print(f\"古いフォーマット方法: {old_format}\")\n",
    "\n",
    "# format()メソッド\n",
    "new_format = \"私の名前は{}で、{}歳です。\".format(name, age)\n",
    "print(f\"format()メソッド: {new_format}\")\n",
    "\n",
    "# f-string (Python 3.6以降)\n",
    "f_string = f\"私の名前は{name}で、{age}歳です。\"\n",
    "print(f\"f-string: {f_string}\")"
   ]
  },
  {
   "cell_type": "markdown",
   "metadata": {},
   "source": [
    "# --------------------------\n",
    "# ここから演習\n",
    "# --------------------------"
   ]
  },
  {
   "cell_type": "code",
   "execution_count": 1,
   "metadata": {},
   "outputs": [
    {
     "name": "stdout",
     "output_type": "stream",
     "text": [
      "文字連結:海老原 輝\n"
     ]
    }
   ],
   "source": [
    "# 演習3-1: 文字列の連結\n",
    "# 自分の名字と名前を別々の変数に代入し、それらを連結して full_name 変数に代入してください\n",
    "# ここにコードを書いてください\n",
    "first_name =\"輝\"\n",
    "last_name = \"海老原\"\n",
    "full_name = last_name + \" \" + first_name\n",
    "print(f\"文字連結:{full_name}\")"
   ]
  },
  {
   "cell_type": "code",
   "execution_count": 3,
   "metadata": {},
   "outputs": [
    {
     "name": "stdout",
     "output_type": "stream",
     "text": [
      "最初の文字: P\n",
      "最後の文字: !\n",
      "最初の六文字: Python\n"
     ]
    },
    {
     "data": {
      "text/plain": [
       "'\\nprint(f\"フルネーム: {full_name}\")\\nprint(f\"最初の文字: {first_char}\")\\nprint(f\"最後の文字: {last_char}\")\\nprint(f\"取り出した言語名: {language}\")\\n'"
      ]
     },
     "execution_count": 3,
     "metadata": {},
     "output_type": "execute_result"
    }
   ],
   "source": [
    "# 演習3-2: 文字列のインデックスとスライス\n",
    "sample_text = \"Python programming is fun!\"\n",
    "\n",
    "# sample_text の最初の文字を first_char 変数に代入\n",
    "# ここにコードを書いてください\n",
    "first_char = sample_text[0]\n",
    "print(f\"最初の文字: {first_char}\")\n",
    "\n",
    "\n",
    "# sample_text の最後の文字を last_char 変数に代入\n",
    "# ここにコードを書いてください\n",
    "last_char = sample_text[-1]\n",
    "print(f\"最後の文字: {last_char}\")\n",
    "\n",
    "\n",
    "# sample_text の最初の6文字（\"Python\"）を取り出して language 変数に代入\n",
    "# ここにコードを書いてください\n",
    "print(f\"最初の六文字: {sample_text[0:6]}\")\n",
    "\n",
    "\n",
    "# 以下のコードのコメントアウトを解除して結果を確認してください\n",
    "\"\"\"\n",
    "print(f\"フルネーム: {full_name}\")\n",
    "print(f\"最初の文字: {first_char}\")\n",
    "print(f\"最後の文字: {last_char}\")\n",
    "print(f\"取り出した言語名: {language}\")\n",
    "\"\"\""
   ]
  },
  {
   "cell_type": "code",
   "execution_count": 6,
   "metadata": {},
   "outputs": [
    {
     "name": "stdout",
     "output_type": "stream",
     "text": [
      "大文字: HELLO, PYTHON WORLD!\n",
      "小文字: hello, python world!\n",
      "タイトルケース: Hello, Python World!\n",
      "置換後: hello, awesome world!\n"
     ]
    },
    {
     "data": {
      "text/plain": [
       "'\\nprint(f\"大文字: {uppercase_message}\")\\nprint(f\"小文字: {lowercase_message}\")\\nprint(f\"タイトルケース: {title_message}\")\\nprint(f\"置換後: {new_message}\")\\n'"
      ]
     },
     "execution_count": 6,
     "metadata": {},
     "output_type": "execute_result"
    }
   ],
   "source": [
    "# 演習3-3: 文字列メソッド\n",
    "message = \"hello, python world!\"\n",
    "\n",
    "# message を全て大文字にした結果を uppercase_message 変数に代入\n",
    "# ここにコードを書いてください\n",
    "uppercase_message = message.upper()\n",
    "print(f\"大文字: {uppercase_message}\")\n",
    "\n",
    "# message を全て小文字にした結果を lowercase_message 変数に代入\n",
    "# ここにコードを書いてください\n",
    "lowercase_message = message.lower()\n",
    "print(f\"小文字: {lowercase_message}\")\n",
    "\n",
    "\n",
    "# message の各単語の先頭を大文字にした結果を title_message 変数に代入\n",
    "# ここにコードを書いてください\n",
    "title_message = message.title()\n",
    "print(f\"タイトルケース: {title_message}\")\n",
    "\n",
    "\n",
    "# message 内の \"python\" という単語を \"awesome\" に置き換えた結果を new_message 変数に代入\n",
    "# ここにコードを書いてください\n",
    "new_message = message.replace(\"python\",\"awesome\")\n",
    "print(f\"置換後: {new_message}\")\n",
    "\n",
    "# 以下のコードのコメントアウトを解除して結果を確認してください\n",
    "\"\"\"\n",
    "print(f\"大文字: {uppercase_message}\")\n",
    "print(f\"小文字: {lowercase_message}\")\n",
    "print(f\"タイトルケース: {title_message}\")\n",
    "print(f\"置換後: {new_message}\")\n",
    "\"\"\""
   ]
  }
 ],
 "metadata": {
  "kernelspec": {
   "display_name": "base",
   "language": "python",
   "name": "python3"
  },
  "language_info": {
   "codemirror_mode": {
    "name": "ipython",
    "version": 3
   },
   "file_extension": ".py",
   "mimetype": "text/x-python",
   "name": "python",
   "nbconvert_exporter": "python",
   "pygments_lexer": "ipython3",
   "version": "3.12.3"
  }
 },
 "nbformat": 4,
 "nbformat_minor": 2
}
