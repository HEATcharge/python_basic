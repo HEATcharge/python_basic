{
 "cells": [
  {
   "cell_type": "markdown",
   "metadata": {},
   "source": [
    "# パート2: 数値演算\n",
    "# ==============\n",
    "Pythonは基本的な算術演算子をすべてサポートしています。"
   ]
  },
  {
   "cell_type": "markdown",
   "metadata": {},
   "source": [
    "## このパートの書き方チートシート\n",
    "\n",
    "- 算術演算子: `+ - * / // % **`（`/`は常にfloat、`//`は切り捨て）\n",
    "- 複合代入: `+=, -=, *=, /=, //=, %=, **=`\n",
    "- 優先順位: `**` → `*, /, //, %` → `+, -`（必要に応じて`()`を使う）\n",
    "- よく使う関数: `abs(x)`, `round(x, ndigits)`\n",
    "\n",
    "```python\n",
    "a, b = 10, 3\n",
    "a + b, a - b, a * b, a / b, a // b, a % b, a ** b\n",
    "\n",
    "x = 5\n",
    "x += 3   # 8\n",
    "x *= 2   # 16\n",
    "x //= 3  # 5\n",
    "\n",
    "\n",
    "```"
   ]
  },
  {
   "cell_type": "code",
   "execution_count": 1,
   "metadata": {},
   "outputs": [
    {
     "name": "stdout",
     "output_type": "stream",
     "text": [
      "10 + 3 = 13\n",
      "10 - 3 = 7\n",
      "10 * 3 = 30\n",
      "10 / 3 = 3.3333333333333335\n",
      "10 // 3 = 3\n",
      "10 % 3 = 1\n",
      "10 ** 3 = 1000\n"
     ]
    }
   ],
   "source": [
    "a = 10\n",
    "b = 3\n",
    "\n",
    "# 基本的な算術演算\n",
    "print(f\"{a} + {b} = {a + b}\")  # 加算\n",
    "print(f\"{a} - {b} = {a - b}\")  # 減算\n",
    "print(f\"{a} * {b} = {a * b}\")  # 乗算\n",
    "print(f\"{a} / {b} = {a / b}\")  # 除算（結果は常に浮動小数点数）\n",
    "print(f\"{a} // {b} = {a // b}\")  # 整数除算（小数点以下切り捨て）\n",
    "print(f\"{a} % {b} = {a % b}\")  # 剰余（余り）\n",
    "print(f\"{a} ** {b} = {a ** b}\")  # べき乗"
   ]
  },
  {
   "cell_type": "markdown",
   "metadata": {},
   "source": [
    "複合代入演算子を使用することで、コードをより簡潔に書くことができます。"
   ]
  },
  {
   "cell_type": "code",
   "execution_count": 2,
   "metadata": {},
   "outputs": [
    {
     "name": "stdout",
     "output_type": "stream",
     "text": [
      "初期値: x = 5\n",
      "x += 3 の後: x = 8\n",
      "x -= 2 の後: x = 6\n",
      "x *= 4 の後: x = 24\n",
      "x /= 2 の後: x = 12.0\n"
     ]
    }
   ],
   "source": [
    "x = 5\n",
    "print(f\"初期値: x = {x}\")\n",
    "\n",
    "x += 3  # x = x + 3 と同じ\n",
    "print(f\"x += 3 の後: x = {x}\")\n",
    "\n",
    "x -= 2  # x = x - 2 と同じ\n",
    "print(f\"x -= 2 の後: x = {x}\")\n",
    "\n",
    "x *= 4  # x = x * 4 と同じ\n",
    "print(f\"x *= 4 の後: x = {x}\")\n",
    "\n",
    "x /= 2  # x = x / 2 と同じ\n",
    "print(f\"x /= 2 の後: x = {x}\")"
   ]
  },
  {
   "cell_type": "markdown",
   "metadata": {},
   "source": [
    "# --------------------------\n",
    "# ここから演習\n",
    "# --------------------------"
   ]
  },
  {
   "cell_type": "code",
   "execution_count": null,
   "metadata": {},
   "outputs": [],
   "source": [
    "# 演習2-1: 基本的な算術演算\n",
    "# 次の数値を使って、足し算、引き算、掛け算、割り算を行ってください\n",
    "num1 = 10\n",
    "num2 = 3\n",
    "\n",
    "# 足し算の結果を変数 add_result に代入\n",
    "# ここにコードを書いてください\n",
    "\n",
    "\n",
    "# 引き算の結果を変数 subtract_result に代入\n",
    "# ここにコードを書いてください\n",
    "\n",
    "\n",
    "# 掛け算の結果を変数 multiply_result に代入\n",
    "# ここにコードを書いてください\n",
    "\n",
    "\n",
    "# 割り算の結果を変数 divide_result に代入\n",
    "# ここにコードを書いてください\n",
    "\n",
    "\n",
    "# 割り算の商（整数部分のみ）を変数 floor_divide_result に代入\n",
    "# ここにコードを書いてください\n",
    "\n",
    "\n",
    "# 割り算の余りを変数 modulo_result に代入\n",
    "# ここにコードを書いてください\n",
    "\n",
    "\n",
    "# 以下のコードのコメントアウトを解除して結果を確認してください\n",
    "\"\"\"\n",
    "print(f\"{num1} + {num2} = {add_result}\")\n",
    "print(f\"{num1} - {num2} = {subtract_result}\")\n",
    "print(f\"{num1} * {num2} = {multiply_result}\")\n",
    "print(f\"{num1} / {num2} = {divide_result}\")\n",
    "print(f\"{num1} // {num2} = {floor_divide_result}\")\n",
    "print(f\"{num1} % {num2} = {modulo_result}\")\n",
    "\"\"\""
   ]
  },
  {
   "cell_type": "code",
   "execution_count": null,
   "metadata": {},
   "outputs": [],
   "source": [
    "# 演習2-2: 複合代入演算子\n",
    "# 変数 x に初期値 5 を代入し、複合代入演算子を使って値を変更してください\n",
    "x = 5\n",
    "\n",
    "# x に 3 を足す\n",
    "# ここにコードを書いてください\n",
    "\n",
    "\n",
    "# x から 2 を引く\n",
    "# ここにコードを書いてください\n",
    "\n",
    "\n",
    "# x を 2 倍する\n",
    "# ここにコードを書いてください\n",
    "\n",
    "\n",
    "# x を 3 で割る\n",
    "# ここにコードを書いてください\n",
    "\n",
    "\n",
    "# 以下のコードのコメントアウトを解除して結果を確認してください\n",
    "\"\"\"\n",
    "print(f\"最終的な x の値: {x}\")\n",
    "\"\"\""
   ]
  }
 ],
 "metadata": {
  "kernelspec": {
   "display_name": "base",
   "language": "python",
   "name": "python3"
  },
  "language_info": {
   "codemirror_mode": {
    "name": "ipython",
    "version": 3
   },
   "file_extension": ".py",
   "mimetype": "text/x-python",
   "name": "python",
   "nbconvert_exporter": "python",
   "pygments_lexer": "ipython3",
   "version": "3.12.4"
  }
 },
 "nbformat": 4,
 "nbformat_minor": 2
}
