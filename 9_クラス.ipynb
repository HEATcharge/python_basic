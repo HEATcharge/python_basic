{
 "cells": [
  {
   "cell_type": "markdown",
   "metadata": {},
   "source": [
    "# パート9: クラス\n",
    "# ============\n",
    "クラスはオブジェクト指向プログラミングの基本的な構成要素で、データ（属性）と機能（メソッド）を一つにまとめる仕組みです。クラスを使うことで、コードの再利用性や保守性が高まります。"
   ]
  },
  {
   "cell_type": "markdown",
   "metadata": {},
   "source": [
    "## このパートの書き方チートシート\n",
    "\n",
    "- 定義: `class Name:`、インスタンス属性は`__init__`で`self.xxx = ...`\n",
    "- メソッド: 第1引数は`self`、クラス変数はクラス直下で宣言\n",
    "- 生成: `obj = ClassName(args)`\n",
    "- 継承/オーバーライド: `class Sub(Base): ...`, `super().__init__(...)`\n",
    "- 便利: `@property`で読み取り専用プロパティを作成\n",
    "\n",
    "```python\n",
    "class Person:\n",
    "    species = \"Homo Sapiens\"  # クラス変数\n",
    "    def __init__(self, name, age):\n",
    "        self.name = name        # インスタンス属性\n",
    "        self.age = age\n",
    "    def introduce(self):\n",
    "        return f\"{self.name}({self.age})\"\n",
    "\n",
    "class Student(Person):\n",
    "    def __init__(self, name, age, sid):\n",
    "        super().__init__(name, age)\n",
    "        self.sid = sid\n",
    "    def introduce(self):  # オーバーライド\n",
    "        return super().introduce() + f\" id={self.sid}\"\n",
    "```"
   ]
  },
  {
   "cell_type": "code",
   "execution_count": 2,
   "metadata": {},
   "outputs": [],
   "source": [
    "# シンプルなクラスの定義\n",
    "class Person:\n",
    "    # クラス変数（全インスタンス共通）\n",
    "    species = \"Homo Sapiens\"\n",
    "    \n",
    "    # 初期化メソッド（コンストラクタ）\n",
    "    def __init__(self, name, age):\n",
    "        self.name = name\n",
    "        self.age = age\n",
    "    \n",
    "    def introduce(self):\n",
    "        return f\"こんにちは、私の名前は{self.name}です。{self.age}歳です。\"\n",
    "    \n",
    "    def celebrate_birthday(self):\n",
    "        self.age += 1\n",
    "        return f\"{self.name}は{self.age}歳になりました！\""
   ]
  },
  {
   "cell_type": "markdown",
   "metadata": {},
   "source": [
    "## クラスのインスタンス化と使用\n",
    "\n",
    "定義したクラスからオブジェクト（インスタンス）を作成して使用します。"
   ]
  },
  {
   "cell_type": "code",
   "execution_count": 2,
   "metadata": {},
   "outputs": [
    {
     "name": "stdout",
     "output_type": "stream",
     "text": [
      "こんにちは、私の名前は田中太郎です。25歳です。\n",
      "こんにちは、私の名前は山田花子です。30歳です。\n"
     ]
    }
   ],
   "source": [
    "# Personクラスのインスタンスを作成\n",
    "person1 = Person(\"田中太郎\", 25)\n",
    "person2 = Person(\"山田花子\", 30)\n",
    "\n",
    "print(person1.introduce())\n",
    "print(person2.introduce())"
   ]
  },
  {
   "cell_type": "code",
   "execution_count": 10,
   "metadata": {},
   "outputs": [
    {
     "name": "stdout",
     "output_type": "stream",
     "text": [
      "人類の学名: Homo Sapiens\n"
     ]
    }
   ],
   "source": [
    "print(f\"人類の学名: {Person.species}\")"
   ]
  },
  {
   "cell_type": "code",
   "execution_count": 9,
   "metadata": {},
   "outputs": [
    {
     "name": "stdout",
     "output_type": "stream",
     "text": [
      "山田花子は35歳になりました！\n"
     ]
    }
   ],
   "source": [
    "print(person2.celebrate_birthday())"
   ]
  },
  {
   "cell_type": "markdown",
   "metadata": {},
   "source": [
    "## 継承\n",
    "\n",
    "クラスは他のクラスを継承して、既存のクラスの機能を拡張できます。"
   ]
  },
  {
   "cell_type": "code",
   "execution_count": 3,
   "metadata": {},
   "outputs": [],
   "source": [
    "# Personクラスを継承したStudentクラス\n",
    "class Student(Person):\n",
    "    def __init__(self, name, age, student_id):\n",
    "        # 親クラスの初期化メソッドを呼び出す\n",
    "        super().__init__(name, age)\n",
    "        self.student_id = student_id\n",
    "        self.grades = {}\n",
    "    \n",
    "    def add_grade(self, subject, grade):\n",
    "        self.grades[subject] = grade\n",
    "    \n",
    "    def get_average(self):\n",
    "        if not self.grades:\n",
    "            return 0\n",
    "        return sum(self.grades.values()) / len(self.grades)\n",
    "    \n",
    "    # メソッドのオーバーライド\n",
    "    def introduce(self):\n",
    "        base_intro = super().introduce()\n",
    "        return f\"{base_intro} 学籍番号は{self.student_id}です。\""
   ]
  },
  {
   "cell_type": "code",
   "execution_count": 4,
   "metadata": {},
   "outputs": [
    {
     "name": "stdout",
     "output_type": "stream",
     "text": [
      "こんにちは、私の名前は佐藤健です。20歳です。 学籍番号はS12345です。\n",
      "科目: ['数学', '英語', '理科']\n",
      "平均点: 85.0\n"
     ]
    }
   ],
   "source": [
    "# Studentクラスのインスタンスを作成\n",
    "student1 = Student(\"佐藤健\", 20, \"S12345\")\n",
    "print(student1.introduce())\n",
    "\n",
    "# 成績を追加\n",
    "student1.add_grade(\"数学\", 85)\n",
    "student1.add_grade(\"英語\", 92)\n",
    "student1.add_grade(\"理科\", 78)\n",
    "\n",
    "print(f\"科目: {list(student1.grades.keys())}\")\n",
    "print(f\"平均点: {student1.get_average():.1f}\")"
   ]
  },
  {
   "cell_type": "code",
   "execution_count": 5,
   "metadata": {},
   "outputs": [
    {
     "name": "stdout",
     "output_type": "stream",
     "text": [
      "人類の学名: Homo Sapiens\n"
     ]
    }
   ],
   "source": [
    "print(f\"人類の学名: {Student.species}\")"
   ]
  },
  {
   "cell_type": "markdown",
   "metadata": {},
   "source": [
    "# --------------------------\n",
    "# ここから演習\n",
    "# --------------------------"
   ]
  },
  {
   "cell_type": "markdown",
   "metadata": {},
   "source": [
    "## 課題1: 銀行口座クラス\n",
    "\n",
    "以下の仕様を満たす`BankAccount`クラスを作成してください。\n",
    "\n",
    "- 口座名義と初期残高を指定してインスタンスを作成できる\n",
    "- `deposit`メソッドで入金ができる\n",
    "- `withdraw`メソッドで出金ができる（ただし、残高不足の場合はエラーメッセージを表示）\n",
    "- `get`メソッドで現在の残高を取得できる"
   ]
  },
  {
   "cell_type": "code",
   "execution_count": null,
   "metadata": {},
   "outputs": [],
   "source": [
    "# ここにBankAccountクラスを実装してください\n",
    "class BankAccount:\n",
    "    pass  # あなたのコードに置き換えてください"
   ]
  },
  {
   "cell_type": "code",
   "execution_count": null,
   "metadata": {},
   "outputs": [],
   "source": [
    "# テストコード\n",
    "account = BankAccount(\"鈴木一郎\", 10000)\n",
    "account.deposit(5000)\n",
    "account.withdraw(2000)\n",
    "account.withdraw(20000)  # 残高不足のケース\n",
    "print(f\"現在の残高: {account.get_balance()}円\")"
   ]
  },
  {
   "cell_type": "markdown",
   "metadata": {},
   "source": [
    "## 課題2: 電子書籍管理システム\n",
    "\n",
    "電子書籍を管理するシステムを作成してください。以下のクラスを実装してください。\n",
    "\n",
    "1. `Ebook`クラス：タイトル、著者、ページ数、現在のページを保持\n",
    "   - `read`メソッド：指定したページ数だけ読み進める\n",
    "   - `bookmark`メソッド：すでに読んだページを返す(100/300)\n",
    "   - 読書の進捗率を返す`progress`プロパティ\n",
    "\n",
    "2. `EbookLibrary`クラス：複数の電子書籍を管理\n",
    "   - `add_book`メソッド：新しい書籍を追加\n",
    "   - `find_books_by_author`メソッド：著者名で書籍を検索\n",
    "   - `get_most_read_book`メソッド：最も読み進められている書籍を返"
   ]
  },
  {
   "cell_type": "code",
   "execution_count": null,
   "metadata": {},
   "outputs": [],
   "source": [
    "class Ebook:\n",
    "    pass\n",
    "\n",
    "class EbookLibrary:\n",
    "    pass"
   ]
  },
  {
   "cell_type": "code",
   "execution_count": null,
   "metadata": {},
   "outputs": [],
   "source": [
    "book1 = Ebook(\"Python入門\", \"佐藤\", 300)\n",
    "book2 = Ebook(\"AI入門\", \"鈴木\", 200)\n",
    "book1.read(150)\n",
    "book2.read(180)\n",
    "\n",
    "lib = EbookLibrary()\n",
    "lib.add_book(book1)\n",
    "lib.add_book(book2)\n",
    "\n",
    "most_read, progress = lib.get_most_read_book()\n",
    "print(f\"最も読まれているのは「{most_read.title}」で進捗率{progress:.2%}\")"
   ]
  }
 ],
 "metadata": {
  "kernelspec": {
   "display_name": "base",
   "language": "python",
   "name": "python3"
  },
  "language_info": {
   "codemirror_mode": {
    "name": "ipython",
    "version": 3
   },
   "file_extension": ".py",
   "mimetype": "text/x-python",
   "name": "python",
   "nbconvert_exporter": "python",
   "pygments_lexer": "ipython3",
   "version": "3.12.4"
  }
 },
 "nbformat": 4,
 "nbformat_minor": 4
}
