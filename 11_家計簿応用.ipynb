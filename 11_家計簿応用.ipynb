{
 "cells": [
  {
   "cell_type": "markdown",
   "id": "f6851fb0",
   "metadata": {},
   "source": [
    "# パート11: 家計簿応用\n",
    "リスト+辞書+関数で家計簿をシンプル実装。"
   ]
  },
  {
   "cell_type": "markdown",
   "id": "a24381ab",
   "metadata": {},
   "source": [
    "## チートシート\n",
    "- 1件 = dict: {type: 'income'|'expense', amount:int, category:str, note:str}\n",
    "- 収支合計: sum(e['amount'] for e in entries if 条件)\n",
    "- フィルタ: [e for e in entries if e['category']=='食費']\n",
    "- 関数化で責務分離\n",
    "\n",
    "```python\n",
    "ledger = []\n",
    "def add_income(amt, cat, note=\"\"):\n",
    "    ledger.append({\"type\":\"income\",\"amount\":amt,\"category\":cat,\"note\":note})\n",
    "```"
   ]
  },
  {
   "cell_type": "code",
   "execution_count": null,
   "id": "6b11bc7a",
   "metadata": {},
   "outputs": [],
   "source": [
    "ledger = []  # 家計簿: list of dict\n",
    "\n",
    "def add_income(amount, category, note=\"\"):\n",
    "    ledger.append({\"type\": \"income\", \"amount\": amount, \"category\": category, \"note\": note})\n",
    "\n",
    "def add_expense(amount, category, note=\"\"):\n",
    "    ledger.append({\"type\": \"expense\", \"amount\": -abs(amount), \"category\": category, \"note\": note})\n",
    "\n",
    "def get_balance():\n",
    "    return sum(e['amount'] for e in ledger)\n",
    "\n",
    "def category_total(category):\n",
    "    return sum(e['amount'] for e in ledger if e['category']==category)\n",
    "\n",
    "# サンプル追加\n",
    "add_income(200000, \"給与\", \"4月分\")\n",
    "add_expense(35000, \"家賃\")\n",
    "add_expense(12000, \"食費\")\n",
    "add_expense(5000, \"娯楽\")\n",
    "add_income(10000, \"副業\")\n",
    "add_expense(8000, \"食費\")\n",
    "\n",
    "print(\"残高:\", get_balance())\n",
    "print(\"食費合計:\", category_total(\"食費\"))"
   ]
  },
  {
   "cell_type": "markdown",
   "id": "7691be97",
   "metadata": {},
   "source": [
    "## --------------------------\n",
    "## 演習\n",
    "## --------------------------"
   ]
  },
  {
   "cell_type": "code",
   "execution_count": null,
   "id": "46ee2892",
   "metadata": {},
   "outputs": [],
   "source": [
    "# 演習11-1: 一括追加関数 add_bulk(entries) を実装\n",
    "def add_bulk(rows):\n",
    "    # rows: [ (type, amount, category, note) ]\n",
    "    # ここにコードを書いてください\n",
    "    pass\n",
    "\n",
    "\"\"\"\n",
    "add_bulk([\n",
    "    (\"income\", 5000, \"利子\", \"定期預金\"),\n",
    "    (\"expense\", 2000, \"娯楽\", \"映画\"),\n",
    "])\n",
    "print(get_balance())\n",
    "\"\"\""
   ]
  },
  {
   "cell_type": "code",
   "execution_count": null,
   "id": "64e5f8a3",
   "metadata": {},
   "outputs": [],
   "source": [
    "# 演習11-2: 指定カテゴリの内訳をリストで返す list_by_category(category)\n",
    "def list_by_category(category):\n",
    "    # ここにコードを書いてください\n",
    "    pass\n",
    "\n",
    "\"\"\"\n",
    "print(list_by_category(\"食費\"))\n",
    "\"\"\""
   ]
  },
  {
   "cell_type": "code",
   "execution_count": null,
   "id": "1cbd6d1f",
   "metadata": {},
   "outputs": [],
   "source": [
    "# 演習11-3: 最多支出カテゴリを返す most_expense_category()\n",
    "def most_expense_category():\n",
    "    # カテゴリ毎に合計(負の値)を集計し最も額(絶対値)が大きいカテゴリを返す\n",
    "    # ここにコードを書いてください\n",
    "    pass\n",
    "\n",
    "\"\"\"\n",
    "print(most_expense_category())\n",
    "\"\"\""
   ]
  }
 ],
 "metadata": {
  "language_info": {
   "name": "python"
  }
 },
 "nbformat": 4,
 "nbformat_minor": 5
}
