{
 "cells": [
  {
   "cell_type": "markdown",
   "metadata": {},
   "source": [
    "# パート4: 条件分岐\n",
    "# ==============\n",
    "Pythonでは、if, elif, elseを使用して条件分岐を表現します。\n",
    "インデントがとても重要で、同じブロックのコードは同じインデントレベルである必要があります。"
   ]
  },
  {
   "cell_type": "markdown",
   "metadata": {},
   "source": [
    "## このパートの書き方チートシート\n",
    "\n",
    "- if/elif/else（インデント重要）\n",
    "- 比較演算: `== != < <= > >=`、メンバーシップ: `in`, `not in`\n",
    "- 論理演算: `and`, `or`, `not`\n",
    "- 三項演算子: `X if 条件 else Y`\n",
    "- Truthy/Falsy: `0, \"\", [], {}, None`は偽、それ以外は概ね真\n",
    "\n",
    "```python\n",
    "age = 20\n",
    "if age >= 20:\n",
    "    print(\"成人\")\n",
    "elif age >= 13:\n",
    "    print(\"ティーン\")\n",
    "else:\n",
    "    print(\"子供\")\n",
    "\n",
    "is_ok = (3 < 5) and (\"py\" in \"python\")  # True\n",
    "label = \"偶数\" if 10 % 2 == 0 else \"奇数\"\n",
    "```"
   ]
  },
  {
   "cell_type": "code",
   "execution_count": null,
   "metadata": {},
   "outputs": [],
   "source": [
    "age = 18\n",
    "\n",
    "# 基本的なif文\n",
    "if age >= 20:\n",
    "    print(\"成人です。\")\n",
    "else:\n",
    "    print(\"未成年です。\")\n",
    "\n",
    "# 複数の条件分岐\n",
    "score = 85\n",
    "\n",
    "if score >= 90:\n",
    "    grade = \"A\"\n",
    "elif score >= 80:\n",
    "    grade = \"B\"\n",
    "elif score >= 70:\n",
    "    grade = \"C\"\n",
    "elif score >= 60:\n",
    "    grade = \"D\"\n",
    "else:\n",
    "    grade = \"F\"\n",
    "\n",
    "print(f\"得点: {score}, 成績: {grade}\")"
   ]
  },
  {
   "cell_type": "markdown",
   "metadata": {},
   "source": [
    "Pythonは比較演算子と論理演算子をサポートしています。"
   ]
  },
  {
   "cell_type": "code",
   "execution_count": 1,
   "metadata": {},
   "outputs": [
    {
     "name": "stdout",
     "output_type": "stream",
     "text": [
      "10 == 20: False\n",
      "10 != 20: True\n",
      "10 < 20: True\n",
      "10 <= 20: True\n",
      "10 > 20: False\n",
      "10 >= 20: False\n",
      "True and False: False\n",
      "True or False: True\n",
      "not True: False\n",
      "年齢: 20, 状態: 成人\n"
     ]
    }
   ],
   "source": [
    "# 比較演算子\n",
    "x = 10\n",
    "y = 20\n",
    "print(f\"{x} == {y}: {x == y}\")  # 等しい\n",
    "print(f\"{x} != {y}: {x != y}\")  # 等しくない\n",
    "print(f\"{x} < {y}: {x < y}\")    # より小さい\n",
    "print(f\"{x} <= {y}: {x <= y}\")  # 以下\n",
    "print(f\"{x} > {y}: {x > y}\")    # より大きい\n",
    "print(f\"{x} >= {y}: {x >= y}\")  # 以上\n",
    "\n",
    "# 論理演算子\n",
    "a = True\n",
    "b = False\n",
    "print(f\"{a} and {b}: {a and b}\")  # 論理積（AND）\n",
    "print(f\"{a} or {b}: {a or b}\")    # 論理和（OR）\n",
    "print(f\"not {a}: {not a}\")        # 論理否定（NOT）\n",
    "\n",
    "# 条件演算子（三項演算子）\n",
    "age = 20\n",
    "status = \"成人\" if age >= 20 else \"未成年\"\n",
    "print(f\"年齢: {age}, 状態: {status}\")"
   ]
  },
  {
   "cell_type": "markdown",
   "metadata": {},
   "source": [
    "# --------------------------\n",
    "# ここから演習\n",
    "# --------------------------"
   ]
  },
  {
   "cell_type": "code",
   "execution_count": null,
   "metadata": {},
   "outputs": [],
   "source": [
    "# 演習4-1: 基本的なif文\n",
    "# 年齢によって異なるメッセージを表示するコードを書いてください\n",
    "age = 17\n",
    "\n",
    "# もし age が 30以上なら \"成人です。\" と表示し、そうでなければ \"未成年です。\" と表示\n",
    "# ここにコードを書いてください"
   ]
  },
  {
   "cell_type": "code",
   "execution_count": null,
   "metadata": {},
   "outputs": [],
   "source": [
    "# 演習4-2: 複数の条件分岐\n",
    "# 試験の点数（0〜100）に基づいて成績を判定するコードを書いてください\n",
    "score = 85\n",
    "\n",
    "# score が 90以上ならA、80以上ならB、70以上ならC、60以上ならD、それ未満ならFを grade 変数に代入\n",
    "# ここにコードを書いてください\n",
    "\n",
    "\n",
    "# 以下のコードのコメントアウトを解除して結果を確認してください\n",
    "\"\"\"\n",
    "print(f\"得点: {score}, 成績: {grade}\")\n",
    "\"\"\""
   ]
  },
  {
   "cell_type": "code",
   "execution_count": null,
   "metadata": {},
   "outputs": [],
   "source": [
    "# 演習4-3: 論理演算子\n",
    "# ユーザーがサービスにアクセスできるかどうかを判定するコードを書いてください\n",
    "is_logged_in = True\n",
    "is_admin = False\n",
    "has_permission = True\n",
    "\n",
    "# ログインしていて、かつ（管理者であるか、権限を持っている）場合に \"アクセス許可\" と表示し、\n",
    "# そうでなければ \"アクセス拒否\" と表示\n",
    "# ここにコードを書いてください"
   ]
  }
 ],
 "metadata": {
  "kernelspec": {
   "display_name": "base",
   "language": "python",
   "name": "python3"
  },
  "language_info": {
   "codemirror_mode": {
    "name": "ipython",
    "version": 3
   },
   "file_extension": ".py",
   "mimetype": "text/x-python",
   "name": "python",
   "nbconvert_exporter": "python",
   "pygments_lexer": "ipython3",
   "version": "3.12.4"
  }
 },
 "nbformat": 4,
 "nbformat_minor": 2
}
