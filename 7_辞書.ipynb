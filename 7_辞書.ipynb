{
 "cells": [
  {
   "cell_type": "markdown",
   "metadata": {},
   "source": [
    "# パート7: 辞書\n",
    "# ===========\n",
    "辞書は、キーと値のペアを格納するデータ構造です。\n",
    "キーを使用して値にアクセスします。"
   ]
  },
  {
   "cell_type": "markdown",
   "metadata": {},
   "source": [
    "## このパートの書き方チートシート\n",
    "\n",
    "- 生成: `d = {\"key\": value}`、存在判定: `'key' in d`\n",
    "- 取得: `d[key]`（無ければエラー）, `d.get(key, default)`\n",
    "- 追加/更新/削除: `d[key] = v`, `d.update({...})`, `del d[key]`\n",
    "- 走査: `d.keys()`, `d.values()`, `d.items()`\n",
    "\n",
    "```python\n",
    "person = {\"name\": \"山田\", \"age\": 30}\n",
    "person[\"city\"] = \"東京\"       # 追加/更新\n",
    "age = person.get(\"age\", 0)    # 30\n",
    "for k, v in person.items():\n",
    "    print(k, v)\n",
    "if \"job\" not in person:\n",
    "    person.update({\"job\": \"engineer\"})\n",
    "```"
   ]
  },
  {
   "cell_type": "code",
   "execution_count": null,
   "metadata": {},
   "outputs": [],
   "source": [
    "# 辞書の作成\n",
    "person = {\n",
    "    \"name\": \"山田太郎\",\n",
    "    \"age\": 30,\n",
    "    \"city\": \"東京\",\n",
    "    \"is_student\": False\n",
    "}\n",
    "\n",
    "print(f\"人物情報: {person}\")\n",
    "\n",
    "# 辞書の値へのアクセス\n",
    "print(f\"名前: {person['name']}\")\n",
    "print(f\"年齢: {person['age']}\")\n",
    "\n",
    "# get()メソッドを使用したアクセス（キーが存在しない場合はNoneを返す）\n",
    "print(f\"職業: {person.get('occupation')}\")\n",
    "print(f\"職業（デフォルト値付き）: {person.get('occupation', '無職')}\")"
   ]
  },
  {
   "cell_type": "code",
   "execution_count": null,
   "metadata": {},
   "outputs": [],
   "source": [
    "# 辞書の値の変更\n",
    "person['age'] = 31\n",
    "print(f\"年齢変更後: {person}\")\n",
    "\n",
    "# 新しいキーと値の追加\n",
    "person['occupation'] = 'エンジニア'\n",
    "print(f\"職業追加後: {person}\")"
   ]
  },
  {
   "cell_type": "code",
   "execution_count": null,
   "metadata": {},
   "outputs": [],
   "source": [
    "# キーと値のペアの削除\n",
    "del person['is_student']\n",
    "print(f\"学生情報削除後: {person}\")"
   ]
  },
  {
   "cell_type": "code",
   "execution_count": null,
   "metadata": {},
   "outputs": [],
   "source": [
    "# すべてのキーを取得\n",
    "keys = person.keys()\n",
    "print(f\"すべてのキー: {keys}\")\n",
    "\n",
    "# すべての値を取得\n",
    "values = person.values()\n",
    "print(f\"すべての値: {values}\")\n",
    "\n",
    "# すべてのキーと値のペアを取得\n",
    "items = person.items()\n",
    "print(f\"すべてのキーと値のペア: {items}\")"
   ]
  },
  {
   "cell_type": "markdown",
   "metadata": {},
   "source": [
    "# --------------------------\n",
    "# ここから演習\n",
    "# --------------------------"
   ]
  },
  {
   "cell_type": "code",
   "execution_count": null,
   "metadata": {},
   "outputs": [],
   "source": [
    "# 演習7-1: 辞書の作成とアクセス\n",
    "# 自分自身の情報を含む辞書を作成してください（名前、年齢、趣味など）\n",
    "# ここにコードを書いてください\n",
    "\n",
    "\n",
    "# 辞書から「趣味」の値を取り出して hobby 変数に代入\n",
    "# ここにコードを書いてください\n",
    "\n",
    "\n",
    "# 以下のコードのコメントアウトを解除して結果を確認してください\n",
    "\"\"\"\n",
    "print(f\"自分の情報: {person}\")\n",
    "print(f\"趣味: {hobby}\")\n",
    "\"\"\""
   ]
  },
  {
   "cell_type": "code",
   "execution_count": null,
   "metadata": {},
   "outputs": [],
   "source": [
    "# 演習7-2: 辞書の操作\n",
    "# 作成した辞書に新しい情報を追加・更新してください\n",
    "\n",
    "# 辞書に「好きな食べ物」という新しいキーと値を追加\n",
    "# ここにコードを書いてください\n",
    "\n",
    "\n",
    "# 辞書の「年齢」の値を1増やす\n",
    "# ここにコードを書いてください\n",
    "\n",
    "\n",
    "# 以下のコードのコメントアウトを解除して結果を確認してください\n",
    "\"\"\"\n",
    "print(f\"更新後の情報: {person}\")\n",
    "\"\"\""
   ]
  },
  {
   "cell_type": "code",
   "execution_count": null,
   "metadata": {},
   "outputs": [],
   "source": [
    "# 演習7-3: 辞書のループ処理\n",
    "# 辞書のすべてのキーと値を表示するコードを書いてください\n",
    "print(\"辞書の内容:\")\n",
    "# ここにコードを書いてください"
   ]
  }
 ],
 "metadata": {
  "kernelspec": {
   "display_name": "base",
   "language": "python",
   "name": "python3"
  },
  "language_info": {
   "name": "python",
   "version": "3.12.4"
  }
 },
 "nbformat": 4,
 "nbformat_minor": 2
}
