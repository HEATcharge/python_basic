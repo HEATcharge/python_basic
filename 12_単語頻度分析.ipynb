{
 "cells": [
  {
   "cell_type": "markdown",
   "id": "10d9b216",
   "metadata": {},
   "source": [
    "# パート12: 単語頻度分析応用\n",
    "文字列操作 + 辞書集計 + ソート。新出: set(重複排除)。"
   ]
  },
  {
   "cell_type": "markdown",
   "id": "f61b098f",
   "metadata": {},
   "source": [
    "## チートシート\n",
    "- 前処理例: text.lower().replace(\",\", \"\")\n",
    "- 分割: words = text.split()\n",
    "- 出現回数: freq[w] = freq.get(w, 0) + 1\n",
    "- ユニーク集合: unique = set(words)\n",
    "- 上位表示: sorted(freq.items(), key=lambda x: x[1], reverse=True)[:N]\n",
    "\n",
    "```python\n",
    "s = \"Hello hello world\"\n",
    "ws = s.lower().split()  # ['hello','hello','world']\n",
    "set(ws)  # {'hello','world'}\n",
    "```"
   ]
  },
  {
   "cell_type": "code",
   "execution_count": null,
   "id": "8213688a",
   "metadata": {},
   "outputs": [],
   "source": [
    "text = \"\"\"Python is fun and Python is powerful. Fun things with Python!\"\"\"\n",
    "\n",
    "def clean(text):\n",
    "    for ch in [\",\", \".\", \"!\", \"?\", \";\", \":\"]:\n",
    "        text = text.replace(ch, \"\")\n",
    "    return text.lower()\n",
    "\n",
    "def word_freq(text):\n",
    "    t = clean(text)\n",
    "    words = t.split()\n",
    "    freq = {}\n",
    "    for w in words:\n",
    "        freq[w] = freq.get(w, 0) + 1\n",
    "    return freq\n",
    "\n",
    "freq = word_freq(text)\n",
    "print(freq)\n",
    "\n",
    "# 上位3語\n",
    "top3 = sorted(freq.items(), key=lambda x: x[1], reverse=True)[:3]\n",
    "print(\"Top3:\", top3)\n",
    "\n",
    "# ユニーク語数\n",
    "print(\"ユニーク語数:\", len(set(clean(text).split())))"
   ]
  },
  {
   "cell_type": "markdown",
   "id": "89bb4727",
   "metadata": {},
   "source": [
    "## --------------------------\n",
    "## 演習\n",
    "## --------------------------"
   ]
  },
  {
   "cell_type": "code",
   "execution_count": null,
   "id": "db718b5f",
   "metadata": {},
   "outputs": [],
   "source": [
    "# 演習12-1: 文章を入力して頻度辞書を返す make_freq(text)\n",
    "def make_freq(text):\n",
    "    # ここにコードを書いてください\n",
    "    pass\n",
    "\n",
    "\"\"\"\n",
    "print(make_freq(\"Apple banana apple Orange apple banana\"))\n",
    "\"\"\""
   ]
  },
  {
   "cell_type": "code",
   "execution_count": null,
   "id": "43e5c4ac",
   "metadata": {},
   "outputs": [],
   "source": [
    "# 演習12-2: 頻度辞書から上位N語を返す top_n(freq, n)\n",
    "def top_n(freq, n):\n",
    "    # ここにコードを書いてください\n",
    "    pass\n",
    "\n",
    "\"\"\"\n",
    "f = make_freq(\"one two two three three three\")\n",
    "print(top_n(f, 2))  # [('three',3), ('two',2)] 想定\n",
    "\"\"\""
   ]
  },
  {
   "cell_type": "code",
   "execution_count": null,
   "id": "e1bab367",
   "metadata": {},
   "outputs": [],
   "source": [
    "# 演習12-3: 2つのテキストに共通して現れる単語集合を返す common_words(t1, t2)\n",
    "def common_words(t1, t2):\n",
    "    # set を用いる\n",
    "    # ここにコードを書いてください\n",
    "    pass\n",
    "\n",
    "\"\"\"\n",
    "t1 = \"Python is easy and fun\"\n",
    "t2 = \"Fun things are easy with Python\"\n",
    "print(common_words(t1, t2))\n",
    "\"\"\""
   ]
  }
 ],
 "metadata": {
  "language_info": {
   "name": "python"
  }
 },
 "nbformat": 4,
 "nbformat_minor": 5
}
