{
 "cells": [
  {
   "cell_type": "markdown",
   "id": "5618e489",
   "metadata": {},
   "source": [
    "# パート10: 成績管理応用\n",
    "学んだ 基本データ型 / リスト / 辞書 / ループ / 関数 / クラス(一部) を組み合わせた成績処理。\n",
    "新出: sorted() の key / reverse 引数。"
   ]
  },
  {
   "cell_type": "markdown",
   "id": "d912cbe0",
   "metadata": {},
   "source": [
    "## チートシート（本パートで使う主な要素）\n",
    "- 合計 / 件数 / 平均: sum(xs), len(xs), sum(xs)/len(xs)\n",
    "- 辞書アクセス: d['key'], d.get('key')\n",
    "- 内包表記: [x['score'] for x in rows]\n",
    "- sorted(iterable, key=lambda x: x['avg'], reverse=True)\n",
    "- 関数分割: 処理を小さくまとめて再利用\n",
    "\n",
    "```python\n",
    "students = [\n",
    "  {\"name\": \"田中\", \"scores\": {\"国語\": 80, \"数学\": 68, \"英語\": 90}},\n",
    "  {\"name\": \"佐藤\", \"scores\": {\"国語\": 92, \"数学\": 88, \"英語\": 75}},\n",
    "]\n",
    "\n",
    "# 学生平均\n",
    "def student_average(stu):\n",
    "    sc = stu[\"scores\"].values()\n",
    "    return sum(sc)/len(sc)\n",
    "\n",
    "# ソート（平均降順）\n",
    "ranked = sorted(students, key=lambda s: student_average(s), reverse=True)\n",
    "```"
   ]
  },
  {
   "cell_type": "code",
   "execution_count": null,
   "id": "b85249dc",
   "metadata": {
    "vscode": {
     "languageId": "ini"
    }
   },
   "outputs": [],
   "source": [
    "# 辞書の key() と values() の使い方例\n",
    "\n",
    "sample_dict = {\"a\": 1, \"b\": 2, \"c\": 3}\n",
    "\n",
    "# keys() でキー一覧を取得\n",
    "print(\"keys:\", list(sample_dict.keys()))\n",
    "\n",
    "# values() で値一覧を取得\n",
    "print(\"values:\", list(sample_dict.values()))"
   ]
  },
  {
   "cell_type": "code",
   "execution_count": null,
   "id": "31f08227",
   "metadata": {},
   "outputs": [],
   "source": [
    "# sum() の使い方例\n",
    "\n",
    "numbers = [10, 20, 30, 40]\n",
    "total = sum(numbers)\n",
    "print(\"合計:\", total)"
   ]
  },
  {
   "cell_type": "code",
   "execution_count": null,
   "id": "61f63a26",
   "metadata": {
    "vscode": {
     "languageId": "ini"
    }
   },
   "outputs": [],
   "source": [
    "# lambda（無名関数）の使い方例\n",
    "\n",
    "# 例1: 2つの数の和を返す\n",
    "add = lambda x, y: x + y\n",
    "print(add(3, 5))  # 8\n",
    "\n",
    "# 例2: リストの各要素を2倍にする\n",
    "nums = [1, 2, 3]\n",
    "doubled = list(map(lambda x: x * 2, nums))\n",
    "print(doubled)  # [2, 4, 6]\n",
    "\n",
    "# 例3: sortedでkeyにlambdaを使う\n",
    "data = [{\"name\": \"A\", \"score\": 70}, {\"name\": \"B\", \"score\": 90}]\n",
    "sorted_data = sorted(data, key=lambda d: d[\"score\"], reverse=True)\n",
    "print(sorted_data)"
   ]
  },
  {
   "cell_type": "code",
   "execution_count": null,
   "id": "150298ba",
   "metadata": {
    "vscode": {
     "languageId": "ini"
    }
   },
   "outputs": [],
   "source": [
    "# sortedの使い方例\n",
    "\n",
    "numbers = [5, 2, 9, 1]\n",
    "sorted_numbers = sorted(numbers)\n",
    "print(\"昇順:\", sorted_numbers)  # [1, 2, 5, 9]\n",
    "\n",
    "# 降順にソート\n",
    "sorted_numbers_desc = sorted(numbers, reverse=True)\n",
    "print(\"降順:\", sorted_numbers_desc)  # [9, 5, 2, 1]\n",
    "\n",
    "# 辞書リストをkeyでソート\n",
    "students = [\n",
    "    {\"name\": \"A\", \"score\": 70},\n",
    "    {\"name\": \"B\", \"score\": 90},\n",
    "    {\"name\": \"C\", \"score\": 80}\n",
    "]\n",
    "sorted_students = sorted(students, key=lambda s: s[\"score\"])\n",
    "print(\"scoreで昇順:\", sorted_students)"
   ]
  },
  {
   "cell_type": "code",
   "execution_count": null,
   "id": "b390adee",
   "metadata": {},
   "outputs": [],
   "source": [
    "# appendの使い方例\n",
    "\n",
    "fruits = [\"apple\", \"banana\"]\n",
    "fruits.append(\"orange\")\n",
    "print(fruits)  # ['apple', 'banana', 'orange']"
   ]
  },
  {
   "cell_type": "code",
   "execution_count": null,
   "id": "dd9c990d",
   "metadata": {
    "vscode": {
     "languageId": "ini"
    }
   },
   "outputs": [],
   "source": [
    "# len() の使い方例\n",
    "\n",
    "fruits = [\"apple\", \"banana\", \"orange\"]\n",
    "print(\"要素数:\", len(fruits))  # 3\n",
    "\n",
    "text = \"Hello\"\n",
    "print(\"文字数:\", len(text))  # 5\n",
    "\n",
    "scores = {\"国語\": 80, \"数学\": 90}\n",
    "print(\"科目数:\", len(scores))  # 2"
   ]
  },
  {
   "cell_type": "code",
   "execution_count": null,
   "id": "53acd352",
   "metadata": {},
   "outputs": [],
   "source": []
  },
  {
   "cell_type": "code",
   "execution_count": null,
   "id": "0375a266",
   "metadata": {},
   "outputs": [],
   "source": [
    "# サンプルデータ: 学生ごとの科目得点\n",
    "students = [\n",
    "    {\"name\": \"田中\", \"scores\": {\"国語\": 80, \"数学\": 68, \"英語\": 90, \"理科\": 72}},\n",
    "    {\"name\": \"佐藤\", \"scores\": {\"国語\": 92, \"数学\": 88, \"英語\": 75, \"理科\": 85}},\n",
    "    {\"name\": \"鈴木\", \"scores\": {\"国語\": 70, \"数学\": 95, \"英語\": 82, \"理科\": 91}},\n",
    "    {\"name\": \"高橋\", \"scores\": {\"国語\": 88, \"数学\": 76, \"英語\": 84, \"理科\": 79}}\n",
    "]\n",
    "\n",
    "def calc_student_average(student):\n",
    "    scores = student[\"scores\"].values()\n",
    "    return sum(scores)/len(scores)\n",
    "\n",
    "def append_averages(rows):\n",
    "    for r in rows:\n",
    "        r[\"average\"] = calc_student_average(r)\n",
    "append_averages(students)\n",
    "\n",
    "print(\"学生ごとの平均:\")\n",
    "for s in students:\n",
    "    print(f\"{s['name']}: {s['average']:.1f}\")"
   ]
  },
  {
   "cell_type": "code",
   "execution_count": null,
   "id": "569db254",
   "metadata": {},
   "outputs": [],
   "source": [
    "# 科目ごとの平均点\n",
    "subjects = list(students[0][\"scores\"].keys())\n",
    "subject_avg = {}\n",
    "for sub in subjects:\n",
    "    subject_avg[sub] = sum(stu[\"scores\"][sub] for stu in students)/len(students)\n",
    "print(\"科目平均:\")\n",
    "for k, v in subject_avg.items():\n",
    "    print(f\"{k}: {v:.1f}\")"
   ]
  },
  {
   "cell_type": "code",
   "execution_count": null,
   "id": "90cd9c70",
   "metadata": {},
   "outputs": [],
   "source": [
    "# 平均による順位付け (sorted の活用)\n",
    "ranked = sorted(students, key=lambda s: s['average'], reverse=True)\n",
    "print(\"\\n順位 (平均降順):\")\n",
    "for i, s in enumerate(ranked, start=1):\n",
    "    print(f\"{i}位 {s['name']} 平均 {s['average']:.1f}\")"
   ]
  },
  {
   "cell_type": "markdown",
   "id": "450ea28c",
   "metadata": {},
   "source": [
    "## --------------------------\n",
    "## 演習\n",
    "## --------------------------\n",
    "以下の演習を埋めて動作を確認してください。"
   ]
  },
  {
   "cell_type": "code",
   "execution_count": null,
   "id": "cf209be1",
   "metadata": {},
   "outputs": [],
   "source": [
    "# 演習10-1: 学生平均計算関数の実装\n",
    "exercise_students = [\n",
    "    {\"name\": \"A\", \"scores\": {\"国語\": 50, \"数学\": 60, \"英語\": 70}},\n",
    "    {\"name\": \"B\", \"scores\": {\"国語\": 90, \"数学\": 85, \"英語\": 88}},\n",
    "    {\"name\": \"C\", \"scores\": {\"国語\": 72, \"数学\": 68, \"英語\": 74}},\n",
    "]\n",
    "\n",
    "def calc_student_average_ex(stu):\n",
    "    # ここにコードを書いてください\n",
    "    pass\n",
    "\n",
    "for s in exercise_students:\n",
    "    # s['average'] を追加\n",
    "    pass  # ここにコードを書いてください\n",
    "\n",
    "\"\"\"\n",
    "for s in exercise_students:\n",
    "    print(s['name'], s['average'])\n",
    "\"\"\""
   ]
  },
  {
   "cell_type": "code",
   "execution_count": null,
   "id": "b827b8bc",
   "metadata": {},
   "outputs": [],
   "source": [
    "# 演習10-2: 科目平均を求める関数 make_subject_average(rows) を完成させる\n",
    "def make_subject_average(rows):\n",
    "    # rows: [{name:str, scores:{科目:点数}}]\n",
    "    # 戻り値: {科目: 平均点}\n",
    "    # ここにコードを書いてください\n",
    "    pass\n",
    "\n",
    "# test_subject_avg = make_subject_average(exercise_students)\n",
    "\"\"\"\n",
    "print(make_subject_average(exercise_students))\n",
    "\"\"\""
   ]
  },
  {
   "cell_type": "code",
   "execution_count": null,
   "id": "cffa900c",
   "metadata": {},
   "outputs": [],
   "source": [
    "# 演習10-3: 上位N名を返す get_top_n(rows, n)\n",
    "def get_top_n(rows, n):\n",
    "    # rowsには 'average' がある前提\n",
    "    # ここにコードを書いてください\n",
    "    pass\n",
    "\n",
    "\"\"\"\n",
    "# append averages first\n",
    "for s in exercise_students:\n",
    "    s['average'] = calc_student_average_ex(s)\n",
    "print(get_top_n(exercise_students, 2))\n",
    "\"\"\""
   ]
  },
  {
   "cell_type": "code",
   "execution_count": null,
   "id": "92b5eeb1",
   "metadata": {},
   "outputs": [],
   "source": [
    "# 演習10-4: 学生追加 add_student(rows, name, score_dict)\n",
    "def add_student(rows, name, score_dict):\n",
    "    # ここにコードを書いてください\n",
    "    pass\n",
    "\n",
    "\"\"\"\n",
    "add_student(exercise_students, \"D\", {\"国語\":80, \"数学\":77, \"英語\":83})\n",
    "print([s['name'] for s in exercise_students])\n",
    "\"\"\""
   ]
  },
  {
   "cell_type": "code",
   "execution_count": null,
   "id": "b4483582",
   "metadata": {},
   "outputs": [],
   "source": [
    "# 演習10-5: 得点更新 update_score(rows, name, subject, new_score)\n",
    "def update_score(rows, name, subject, new_score):\n",
    "    # ここにコードを書いてください\n",
    "    pass\n",
    "\n",
    "\"\"\"\n",
    "update_score(exercise_students, \"A\", \"国語\", 65)\n",
    "print(exercise_students[0])\n",
    "\"\"\""
   ]
  }
 ],
 "metadata": {
  "language_info": {
   "name": "python"
  }
 },
 "nbformat": 4,
 "nbformat_minor": 5
}
