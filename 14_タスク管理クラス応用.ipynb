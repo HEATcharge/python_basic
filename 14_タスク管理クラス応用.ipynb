{
 "cells": [
  {
   "cell_type": "markdown",
   "id": "99c3089c",
   "metadata": {},
   "source": [
    "# パート14: タスク管理クラス応用\n",
    "クラス / 辞書 / リスト を組み合わせた簡易タスク管理。@property の利用。"
   ]
  },
  {
   "cell_type": "markdown",
   "id": "2b5c88ed",
   "metadata": {},
   "source": [
    "## チートシート\n",
    "- クラス基本: __init__, メソッド\n",
    "- 状態変更: self.done = True\n",
    "- @property: メソッドを属性風にアクセス\n",
    "- 集約: list で Task を保持\n",
    "\n",
    "```python\n",
    "class Sample:\n",
    "    def __init__(self, x):\n",
    "        self.x = x\n",
    "    @property\n",
    "    def double(self):\n",
    "        return self.x * 2\n",
    "```"
   ]
  },
  {
   "cell_type": "code",
   "execution_count": null,
   "id": "f0dd3c9a",
   "metadata": {},
   "outputs": [],
   "source": [
    "from datetime import date\n",
    "\n",
    "class Task:\n",
    "    def __init__(self, title, due=None):\n",
    "        self.title = title\n",
    "        self.done = False\n",
    "        self.due = due  # date or None\n",
    "    def complete(self):\n",
    "        self.done = True\n",
    "    def __repr__(self):\n",
    "        flag = \"✓\" if self.done else \"✗\"\n",
    "        return f\"<Task {flag} {self.title}>\"\n",
    "\n",
    "class TaskManager:\n",
    "    def __init__(self):\n",
    "        self.tasks = []\n",
    "    def add(self, title, due=None):\n",
    "        t = Task(title, due)\n",
    "        self.tasks.append(t)\n",
    "        return t\n",
    "    def find(self, keyword):\n",
    "        return [t for t in self.tasks if keyword in t.title]\n",
    "    def pending(self):\n",
    "        return [t for t in self.tasks if not t.done]\n",
    "    def complete(self, title):\n",
    "        for t in self.tasks:\n",
    "            if t.title == title:\n",
    "                t.complete()\n",
    "                return True\n",
    "        return False\n",
    "    @property\n",
    "    def progress(self):\n",
    "        if not self.tasks:\n",
    "            return 0.0\n",
    "        done = sum(1 for t in self.tasks if t.done)\n",
    "        return done / len(self.tasks)\n",
    "\n",
    "# デモ\n",
    "mgr = TaskManager()\n",
    "mgr.add(\"仕様策定\", date(2025,5,1))\n",
    "mgr.add(\"実装\")\n",
    "mgr.add(\"テスト\")\n",
    "mgr.complete(\"実装\")\n",
    "print(mgr.tasks)\n",
    "print(f\"進捗: {mgr.progress:.0%}\")"
   ]
  },
  {
   "cell_type": "markdown",
   "id": "3de52a09",
   "metadata": {},
   "source": [
    "## --------------------------\n",
    "## 演習\n",
    "## --------------------------"
   ]
  },
  {
   "cell_type": "code",
   "execution_count": null,
   "id": "040aa81b",
   "metadata": {},
   "outputs": [],
   "source": [
    "# 演習14-1: 期限切れタスクを返す expired(self, today:date) を TaskManager に追加\n",
    "# 下に継承して拡張したクラスで実装してください\n",
    "class TaskManagerEx(TaskManager):\n",
    "    def expired(self, today):\n",
    "        # ここにコードを書いてください\n",
    "        pass\n",
    "\n",
    "\"\"\"\n",
    "ex = TaskManagerEx()\n",
    "ex.add(\"A\", date(2025,1,1))\n",
    "ex.add(\"B\", date(2026,1,1))\n",
    "print(ex.expired(date(2025,6,1)))\n",
    "\"\"\""
   ]
  },
  {
   "cell_type": "code",
   "execution_count": null,
   "id": "d4fb8486",
   "metadata": {},
   "outputs": [],
   "source": [
    "# 演習14-2: 優先度付きタスク\n",
    "# Task に priority(1=高, 2=中, 3=低) を追加し、\n",
    "# Manager に high_priority(self) (優先度1の未完了一覧) を実装するクラスを新たに作成。\n",
    "class PriorityTask(Task):\n",
    "    def __init__(self, title, due=None, priority=2):\n",
    "        # ここにコードを書いてください\n",
    "        pass\n",
    "    def __repr__(self):\n",
    "        # ここにコードを書いてください\n",
    "        pass\n",
    "\n",
    "class PriorityTaskManager(TaskManager):\n",
    "    def add(self, title, due=None, priority=2):\n",
    "        # ここにコードを書いてください\n",
    "        pass\n",
    "    def high_priority(self):\n",
    "        # ここにコードを書いてください\n",
    "        pass\n",
    "\n",
    "\"\"\"\n",
    "pm = PriorityTaskManager()\n",
    "pm.add(\"至急バグ修正\", priority=1)\n",
    "pm.add(\"資料整理\", priority=3)\n",
    "pm.add(\"設計レビュー\", priority=1)\n",
    "print(pm.high_priority())\n",
    "\"\"\""
   ]
  }
 ],
 "metadata": {
  "language_info": {
   "name": "python"
  }
 },
 "nbformat": 4,
 "nbformat_minor": 5
}
