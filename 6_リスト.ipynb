{
 "cells": [
  {
   "cell_type": "markdown",
   "metadata": {},
   "source": [
    "# パート6: リスト\n",
    "# ============\n",
    "リストは順序付けられた要素のコレクションで、変更可能です。\n",
    "要素はどんな型でもよく、異なる型を混在させることもできます。"
   ]
  },
  {
   "cell_type": "markdown",
   "metadata": {},
   "source": [
    "## このパートの書き方チートシート\n",
    "\n",
    "- 生成: `xs = [a, b, c]`、長さ: `len(xs)`\n",
    "- アクセス/スライス: `xs[i]`、`xs[start:stop:step]`、末尾: `xs[-1]`\n",
    "- 追加/挿入/削除: `append`、`insert`、`remove`、`pop`、`clear`\n",
    "- 並べ替え: `xs.sort(reverse=False)`、逆順: `xs.reverse()`\n",
    "- 集約: `min(xs)`、`max(xs)`、`sum(xs)`\n",
    "- リスト内包表記: `[expr for x in xs if 条件]`"
   ]
  },
  {
   "cell_type": "code",
   "execution_count": 5,
   "metadata": {},
   "outputs": [
    {
     "name": "stdout",
     "output_type": "stream",
     "text": [
      "果物リスト: ['りんご', 'バナナ', 'オレンジ', 'ぶどう']\n",
      "混合リスト: [1, 'こんにちは', 3.14, True]\n",
      "最初の果物: りんご\n",
      "最後の果物: ぶどう\n",
      "最初の2つの果物: ['りんご', 'バナナ']\n",
      "2番目から最後までの果物: ['バナナ', 'オレンジ', 'ぶどう']\n",
      "2番目から3番目までの果物: ['バナナ', 'オレンジ']\n"
     ]
    }
   ],
   "source": [
    "# リストの作成\n",
    "fruits = [\"りんご\", \"バナナ\", \"オレンジ\", \"ぶどう\"]\n",
    "print(f\"果物リスト: {fruits}\")\n",
    "\n",
    "# 様々な型を含むリスト\n",
    "mixed = [1, \"こんにちは\", 3.14, True]\n",
    "print(f\"混合リスト: {mixed}\")\n",
    "\n",
    "# インデックスによるアクセス\n",
    "print(f\"最初の果物: {fruits[0]}\")\n",
    "print(f\"最後の果物: {fruits[-1]}\")  # 負のインデックスは末尾からカウント\n",
    "\n",
    "# リストのスライス\n",
    "print(f\"最初の2つの果物: {fruits[:2]}\")\n",
    "print(f\"2番目から最後までの果物: {fruits[1:]}\")\n",
    "print(f\"2番目から3番目までの果物: {fruits[1:3]}\")"
   ]
  },
  {
   "cell_type": "code",
   "execution_count": null,
   "metadata": {},
   "outputs": [],
   "source": [
    "# リストの変更\n",
    "fruits[1] = \"キウイ\"\n",
    "print(f\"変更後のリスト: {fruits}\")\n",
    "\n",
    "# リストへの要素追加\n",
    "fruits.append(\"マンゴー\")\n",
    "print(f\"append後のリスト: {fruits}\")\n",
    "\n",
    "# リストの特定の位置に要素を挿入\n",
    "fruits.insert(1, \"パイナップル\")\n",
    "print(f\"insert後のリスト: {fruits}\")\n",
    "\n",
    "# リストからの要素削除\n",
    "fruits.remove(\"オレンジ\")\n",
    "print(f\"remove後のリスト: {fruits}\")\n",
    "\n",
    "# インデックスで要素を削除\n",
    "popped_fruit = fruits.pop(2)\n",
    "print(f\"pop後のリスト: {fruits}\")\n",
    "print(f\"取り出された果物: {popped_fruit}\")\n",
    "\n",
    "# リストの並べ替え\n",
    "numbers = [4, 1, 7, 3, 9, 2]\n",
    "print(f\"元のリスト: {numbers}\")"
   ]
  },
  {
   "cell_type": "code",
   "execution_count": null,
   "metadata": {},
   "outputs": [],
   "source": [
    "# ソート（元のリストを変更）\n",
    "numbers.sort()\n",
    "print(f\"ソート後のリスト: {numbers}\")\n",
    "\n",
    "# 逆順にソート\n",
    "numbers.sort(reverse=True)\n",
    "print(f\"逆順ソート後のリスト: {numbers}\")\n",
    "\n",
    "# リストの長さ\n",
    "print(f\"果物の数: {len(fruits)}\")\n",
    "\n",
    "# リストの結合\n",
    "list1 = [1, 2, 3]\n",
    "list2 = [4, 5, 6]\n",
    "combined = list1 + list2\n",
    "print(f\"結合されたリスト: {combined}\")"
   ]
  },
  {
   "cell_type": "markdown",
   "metadata": {},
   "source": [
    "# --------------------------\n",
    "# ここから演習\n",
    "# --------------------------"
   ]
  },
  {
   "cell_type": "code",
   "execution_count": 1,
   "metadata": {},
   "outputs": [
    {
     "name": "stdout",
     "output_type": "stream",
     "text": [
      "果物リスト:['りんご', 'キウイ', 'オレンジ']\n",
      "最初の果物:りんご\n",
      "最後の果物:オレンジ\n"
     ]
    },
    {
     "data": {
      "text/plain": [
       "'\\nprint(f\"果物リスト: {fruits}\")\\nprint(f\"最初の果物: {first_fruit}\")\\nprint(f\"最後の果物: {last_fruit}\")\\n'"
      ]
     },
     "execution_count": 1,
     "metadata": {},
     "output_type": "execute_result"
    }
   ],
   "source": [
    "# 演習6-1: リストの作成と要素へのアクセス\n",
    "# 好きな果物を3つ以上含むリストを作成し、fruits 変数に代入してください\n",
    "# ここにコードを書いてください\n",
    "fruits = [\"りんご\",\"キウイ\",\"オレンジ\"]\n",
    "print(f\"果物リスト:{fruits}\")\n",
    "\n",
    "# リストの最初の要素を first_fruit 変数に代入\n",
    "# ここにコードを書いてください\n",
    "first_fruits = fruits[0]\n",
    "print(f\"最初の果物:{first_fruits}\")\n",
    "# リストの最後の要素を last_fruit 変数に代入\n",
    "# ここにコードを書いてください\n",
    "last_fruits = fruits[2]\n",
    "print(f\"最後の果物:{last_fruits}\")\n",
    "\n",
    "# 以下のコードのコメントアウトを解除して結果を確認してください\n",
    "\"\"\"\n",
    "print(f\"果物リスト: {fruits}\")\n",
    "print(f\"最初の果物: {first_fruit}\")\n",
    "print(f\"最後の果物: {last_fruit}\")\n",
    "\"\"\""
   ]
  },
  {
   "cell_type": "code",
   "execution_count": null,
   "metadata": {},
   "outputs": [
    {
     "name": "stdout",
     "output_type": "stream",
     "text": [
      "ソート後のリスト:[1, 2, 5, 8, 9]\n",
      "7追加後のリスト:[1, 2, 5, 8, 7, 9]\n",
      "最小値:1\n",
      "最大値:9\n"
     ]
    },
    {
     "data": {
      "text/plain": [
       "'\\nprint(f\"ソート後のリスト: {numbers}\")\\nprint(f\"最小値: {min_number}\")\\nprint(f\"最大値: {max_number}\")\\n'"
      ]
     },
     "execution_count": 8,
     "metadata": {},
     "output_type": "execute_result"
    }
   ],
   "source": [
    "# 演習6-2: リストの操作\n",
    "# 数字のリストを作成し、様々な操作を行ってください\n",
    "numbers = [5, 2, 8, 1, 9]\n",
    "\n",
    "# numbers を昇順に並べ替え\n",
    "# ここにコードを書いてください\n",
    "numbers.sort()\n",
    "print(f\"ソート後のリスト:{numbers}\")\n",
    "# チートシートでわからないことがあったので調べて実装\n",
    "#提出時点では模範解答を見ていないのでこのコードが出題者の意図に沿っているかは不明\n",
    "\n",
    "# numbers に 7 を追加\n",
    "# ここにコードを書いてください\n",
    "numbers.insert(4,7)\n",
    "print(f\"7追加後のリスト:{numbers}\")\n",
    "#数字の追加時には\"\"をつけなくていいことを発見\n",
    "\n",
    "# numbers から最小値を見つけて min_number 変数に代入\n",
    "# ここにコードを書いてください\n",
    "min_number = numbers[0]\n",
    "print(f\"最小値:{min_number}\")\n",
    "\n",
    "# numbers から最大値を見つけて max_number 変数に代入\n",
    "# ここにコードを書いてください\n",
    "max_number = numbers[5]\n",
    "print(f\"最大値:{max_number}\")\n",
    "\n",
    "\n",
    "# 以下のコードのコメントアウトを解除して結果を確認してください\n",
    "\"\"\"\n",
    "print(f\"ソート後のリスト: {numbers}\")\n",
    "print(f\"最小値: {min_number}\")\n",
    "print(f\"最大値: {max_number}\")\n",
    "\"\"\""
   ]
  },
  {
   "cell_type": "code",
   "execution_count": 10,
   "metadata": {},
   "outputs": [
    {
     "name": "stdout",
     "output_type": "stream",
     "text": [
      "元のリスト: [1, 2, 3, 4, 5]\n",
      "二倍したリスト: [2, 4, 6, 8, 10]\n"
     ]
    },
    {
     "data": {
      "text/plain": [
       "'\\nprint(f\"元のリスト: {original_numbers}\")\\nprint(f\"2倍したリスト: {doubled_numbers}\")\\n'"
      ]
     },
     "execution_count": 10,
     "metadata": {},
     "output_type": "execute_result"
    }
   ],
   "source": [
    "# 演習6-3: リストの繰り返し処理\n",
    "# 数字のリストの各要素を2倍にした新しいリストを作成してください\n",
    "original_numbers = [1, 2, 3, 4, 5]\n",
    "print(f\"元のリスト: {original_numbers}\")\n",
    "# original_numbers の各要素を2倍にしたリストを doubled_numbers 変数に代入\n",
    "# ここにコードを書いてください\n",
    "double_numbers = [ n*2 for n in original_numbers]\n",
    "print(f\"二倍したリスト: {double_numbers}\")\n",
    "\n",
    "\n",
    "# 以下のコードのコメントアウトを解除して結果を確認してください\n",
    "\"\"\"\n",
    "print(f\"元のリスト: {original_numbers}\")\n",
    "print(f\"2倍したリスト: {doubled_numbers}\")\n",
    "\"\"\""
   ]
  }
 ],
 "metadata": {
  "kernelspec": {
   "display_name": "base",
   "language": "python",
   "name": "python3"
  },
  "language_info": {
   "codemirror_mode": {
    "name": "ipython",
    "version": 3
   },
   "file_extension": ".py",
   "mimetype": "text/x-python",
   "name": "python",
   "nbconvert_exporter": "python",
   "pygments_lexer": "ipython3",
   "version": "3.12.3"
  }
 },
 "nbformat": 4,
 "nbformat_minor": 2
}
