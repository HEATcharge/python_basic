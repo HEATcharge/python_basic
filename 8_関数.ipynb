{
 "cells": [
  {
   "cell_type": "markdown",
   "metadata": {},
   "source": [
    "# パート8: 関数\n",
    "# ===========\n",
    "関数は、再利用可能なコードのブロックです。\n",
    "def キーワードを使用して定義します。"
   ]
  },
  {
   "cell_type": "markdown",
   "metadata": {},
   "source": [
    "## このパートの書き方チートシート\n",
    "\n",
    "- 定義: `def name(params): ...`、ドキュメンテーションは三連クォートで\n",
    "- 戻り値: `return 値`（複数はタプル）\n",
    "- 引数: 位置/キーワード/デフォルト、可変長 `*args`, `**kwargs`\n",
    "- 型ヒント: `def f(x: int) -> str:`（任意）\n",
    "\n",
    "```python\n",
    "def add(a: int, b: int = 0) -> int:\n",
    "    \"\"\"2数の和を返す\"\"\"\n",
    "    return a + b\n",
    "\n",
    "def stats(*nums):\n",
    "    return min(nums), max(nums), sum(nums)\n",
    "\n",
    "m, M, S = stats(1, 5, 3)\n",
    "```"
   ]
  },
  {
   "cell_type": "code",
   "execution_count": null,
   "metadata": {},
   "outputs": [],
   "source": [
    "# 基本的な関数\n",
    "def greet():\n",
    "    \"\"\"挨拶する関数\"\"\"\n",
    "    print(\"こんにちは！\")\n",
    "\n",
    "# 関数の呼び出し\n",
    "print(\"\\n基本的な関数:\")\n",
    "greet()"
   ]
  },
  {
   "cell_type": "code",
   "execution_count": null,
   "metadata": {},
   "outputs": [],
   "source": [
    "# パラメータを持つ関数\n",
    "def greet_person(name):\n",
    "    \"\"\"指定された名前で挨拶する関数\n",
    "    \n",
    "    Args:\n",
    "        name (str): 挨拶する相手の名前\n",
    "    \"\"\"\n",
    "    print(f\"こんにちは、{name}さん！\")\n",
    "\n",
    "print(\"\\nパラメータを持つ関数:\")\n",
    "greet_person(\"太郎\")"
   ]
  },
  {
   "cell_type": "code",
   "execution_count": null,
   "metadata": {},
   "outputs": [],
   "source": [
    "# デフォルト値を持つパラメータ\n",
    "def greet_with_time(name, time=\"朝\"):\n",
    "    \"\"\"指定された時間帯で挨拶する関数\n",
    "    \n",
    "    Args:\n",
    "        name (str): 挨拶する相手の名前\n",
    "        time (str, optional): 時間帯（デフォルトは「朝」）\n",
    "    \"\"\"\n",
    "    if time == \"朝\":\n",
    "        print(f\"おはようございます、{name}さん！\")\n",
    "    elif time == \"昼\":\n",
    "        print(f\"こんにちは、{name}さん！\")\n",
    "    elif time == \"夜\":\n",
    "        print(f\"こんばんは、{name}さん！\")\n",
    "    else:\n",
    "        print(f\"ご挨拶、{name}さん！\")\n",
    "\n",
    "print(\"\\nデフォルト値を持つパラメータ:\")\n",
    "greet_with_time(\"花子\")\n",
    "greet_with_time(\"次郎\", \"昼\")\n",
    "greet_with_time(\"三郎\", \"夜\")"
   ]
  },
  {
   "cell_type": "code",
   "execution_count": null,
   "metadata": {},
   "outputs": [],
   "source": [
    "# 戻り値を持つ関数\n",
    "def add(a, b):\n",
    "    \"\"\"2つの数値を加算する関数\n",
    "    \n",
    "    Args:\n",
    "        a (number): 1つ目の数値\n",
    "        b (number): 2つ目の数値\n",
    "        \n",
    "    Returns:\n",
    "        number: 加算結果\n",
    "    \"\"\"\n",
    "    return a + b\n",
    "\n",
    "print(\"\\n戻り値を持つ関数:\")\n",
    "result = add(5, 3)\n",
    "print(f\"5 + 3 = {result}\")\n"
   ]
  },
  {
   "cell_type": "code",
   "execution_count": null,
   "metadata": {},
   "outputs": [],
   "source": [
    "# 複数の戻り値を持つ関数\n",
    "def calculate(a, b):\n",
    "    \"\"\"2つの数値の加算、減算、乗算、除算の結果を返す関数\n",
    "    \n",
    "    Args:\n",
    "        a (number): 1つ目の数値\n",
    "        b (number): 2つ目の数値\n",
    "        \n",
    "    Returns:\n",
    "        tuple: 加算、減算、乗算、除算の結果\n",
    "    \"\"\"\n",
    "    addition = a + b\n",
    "    subtraction = a - b\n",
    "    multiplication = a * b\n",
    "    division = a / b if b != 0 else \"除算できません\"\n",
    "    \n",
    "    return addition, subtraction, multiplication, division\n",
    "\n",
    "print(\"\\n複数の戻り値を持つ関数:\")\n",
    "add_result, sub_result, mul_result, div_result = calculate(10, 2)\n",
    "print(f\"10 + 2 = {add_result}\")\n",
    "print(f\"10 - 2 = {sub_result}\")\n",
    "print(f\"10 * 2 = {mul_result}\")\n",
    "print(f\"10 / 2 = {div_result}\")"
   ]
  },
  {
   "cell_type": "markdown",
   "metadata": {},
   "source": [
    "# --------------------------\n",
    "# ここから演習\n",
    "# --------------------------"
   ]
  },
  {
   "cell_type": "code",
   "execution_count": null,
   "metadata": {},
   "outputs": [],
   "source": [
    "# 演習8-1: 基本的な関数\n",
    "# 挨拶を表示する関数 greet を定義してください\n",
    "# ここにコードを書いてください\n",
    "\n",
    "\n",
    "# 関数を呼び出してください\n",
    "# ここにコードを書いてください"
   ]
  },
  {
   "cell_type": "code",
   "execution_count": null,
   "metadata": {},
   "outputs": [],
   "source": [
    "# 演習8-2: 引数を持つ関数\n",
    "# 名前を受け取り、その名前に挨拶する関数 greet_person を定義してください\n",
    "# ここにコードを書いてください\n",
    "\n",
    "\n",
    "# 関数を呼び出してください（自分の名前を渡す）\n",
    "# ここにコードを書いてください"
   ]
  },
  {
   "cell_type": "code",
   "execution_count": null,
   "metadata": {},
   "outputs": [],
   "source": [
    "# 演習8-3: 戻り値を持つ関数\n",
    "# 2つの数値を受け取り、その和を返す関数 add_numbers を定義してください\n",
    "# ここにコードを書いてください\n",
    "\n",
    "\n",
    "# 関数を呼び出し、結果を result 変数に代入してください\n",
    "# ここにコードを書いてください\n",
    "\n",
    "\n",
    "# 以下のコードのコメントアウトを解除して結果を確認してください\n",
    "\"\"\"\n",
    "print(f\"足し算の結果: {result}\")\n",
    "\"\"\""
   ]
  },
  {
   "cell_type": "code",
   "execution_count": null,
   "metadata": {},
   "outputs": [],
   "source": [
    "# 演習8-4: デフォルト引数を持つ関数\n",
    "# 名前と年齢を受け取り挨拶する関数 introduce を定義してください（年齢のデフォルト値は20）\n",
    "# ここにコードを書いてください\n",
    "\n",
    "\n",
    "# 名前だけを指定して関数を呼び出してください\n",
    "# ここにコードを書いてください\n",
    "\n",
    "\n",
    "# 名前と年齢を指定して関数を呼び出してください\n",
    "# ここにコードを書いてください"
   ]
  },
  {
   "cell_type": "code",
   "execution_count": null,
   "metadata": {},
   "outputs": [
    {
     "name": "stdout",
     "output_type": "stream",
     "text": [
      "True\n",
      "False\n"
     ]
    }
   ],
   "source": [
    "#演習8-5: しりとり判定関数\n",
    "# 文字列のリストを受け取り、しりとりが成立しているかを判定する関数 is_shiritori を定義してください\n",
    "# ここにコードを書いてください\n",
    "\n",
    "\"\"\"\n",
    "print(is_shiritori([\"apple\", \"egg\", \"grape\", \"elephant\"]))  # True\n",
    "print(is_shiritori([\"dog\", \"goat\", \"tiger\", \"rabbit\"]))     # False\n",
    "\"\"\""
   ]
  }
 ],
 "metadata": {
  "kernelspec": {
   "display_name": "base",
   "language": "python",
   "name": "python3"
  },
  "language_info": {
   "codemirror_mode": {
    "name": "ipython",
    "version": 3
   },
   "file_extension": ".py",
   "mimetype": "text/x-python",
   "name": "python",
   "nbconvert_exporter": "python",
   "pygments_lexer": "ipython3",
   "version": "3.12.4"
  }
 },
 "nbformat": 4,
 "nbformat_minor": 2
}
