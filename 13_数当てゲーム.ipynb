{
 "cells": [
  {
   "cell_type": "markdown",
   "id": "393ad05a",
   "metadata": {},
   "source": [
    "# パート13: 数当てゲーム\n",
    "while / 条件分岐 / 関数 / 乱数(random)。新出: random.randint(a,b)。"
   ]
  },
  {
   "cell_type": "markdown",
   "id": "3bbaa8d5",
   "metadata": {},
   "source": [
    "## チートシート\n",
    "- import random\n",
    "- random.randint(1, 10) : 1〜10の整数\n",
    "- 反復制御: while attempts < limit:\n",
    "- 条件分岐で大/小をヒント表示\n",
    "\n",
    "```python\n",
    "import random\n",
    "secret = random.randint(1, 5)\n",
    "```"
   ]
  },
  {
   "cell_type": "code",
   "execution_count": null,
   "id": "8ae924bb",
   "metadata": {},
   "outputs": [],
   "source": [
    "import random\n",
    "\n",
    "def make_secret(low=1, high=100):\n",
    "    return random.randint(low, high) #lowからhighまでのランダムな整数を返す\n",
    "\n",
    "def judge(guess, secret): # ユーザーの予想と正解を比較\n",
    "    if guess == secret:\n",
    "        return \"hit\"\n",
    "    return \"low\" if guess < secret else \"high\"\n",
    "\n",
    "# デモ(固定値でシミュレーション)\n",
    "secret = 42\n",
    "for g in [10, 60, 42]:\n",
    "    print(g, judge(g, secret))"
   ]
  },
  {
   "cell_type": "markdown",
   "id": "96d8d527",
   "metadata": {},
   "source": [
    "## --------------------------\n",
    "## 演習\n",
    "## --------------------------\n",
    "実際の入力(input)は学習していない場合、代わりに事前に用意した推測リストでテストしても良い。"
   ]
  },
  {
   "cell_type": "code",
   "execution_count": null,
   "id": "3fbb6694",
   "metadata": {},
   "outputs": [],
   "source": [
    "# 演習13-1: attempt_limit 回以内で当てる関数 play(secret, guesses, attempt_limit)\n",
    "# guesses はユーザ入力の代替リスト\n",
    "def play(secret, guesses, attempt_limit=7):\n",
    "    # ここにコードを書いてください\n",
    "    pass\n",
    "\n",
    "\"\"\"\n",
    "print(play(30, [5, 50, 20, 35, 30]))\n",
    "\"\"\""
   ]
  },
  {
   "cell_type": "code",
   "execution_count": null,
   "id": "29d94d11",
   "metadata": {},
   "outputs": [],
   "source": [
    "# 演習13-2: オートプレイ auto_play(range_low, range_high) -> 結果辞書\n",
    "# 2分探索的戦略: 範囲の中央値を順に当てる\n",
    "\n",
    "# 中央値がsecretより高かったらlowを中央値+1に、低かったらhighを中央値-1に更新していく\n",
    "def auto_play(low, high):\n",
    "    # ここにコードを書いてください\n",
    "    pass\n",
    "\n",
    "\"\"\"\n",
    "result = auto_play(1, 100)\n",
    "print(result)  # {'secret':..., 'attempts':..., 'history':[...]} など\n",
    "\"\"\""
   ]
  }
 ],
 "metadata": {
  "language_info": {
   "name": "python"
  }
 },
 "nbformat": 4,
 "nbformat_minor": 5
}
